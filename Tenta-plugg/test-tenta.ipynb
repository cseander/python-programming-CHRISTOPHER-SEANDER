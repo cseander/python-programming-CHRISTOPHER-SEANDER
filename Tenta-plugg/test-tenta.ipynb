{
 "cells": [
  {
   "cell_type": "code",
   "execution_count": 15,
   "metadata": {},
   "outputs": [
    {
     "data": {
      "text/plain": [
       "[Text(0.5, 1.0, 'Plot'), Text(0.5, 0, 'x'), Text(0, 0.5, 'y')]"
      ]
     },
     "execution_count": 15,
     "metadata": {},
     "output_type": "execute_result"
    },
    {
     "data": {
      "image/png": "[encoded data removed]",
      "text/plain": [
       "<Figure size 432x288 with 1 Axes>"
      ]
     },
     "metadata": {
      "needs_background": "light"
     },
     "output_type": "display_data"
    }
   ],
   "source": [
    "import matplotlib.pyplot as plt\n",
    "\n",
    "x = list(range(10))\n",
    "y = [i**2 for i in x]\n",
    "fig, ax = plt.subplots()\n",
    "ax.plot(x,y)\n",
    "ax.set(title=\"Plot\", xlabel=\"x\", ylabel=\"y\")\n"
   ]
  },
  {
   "cell_type": "code",
   "execution_count": 23,
   "metadata": {},
   "outputs": [
    {
     "name": "stdout",
     "output_type": "stream",
     "text": [
      "[166585, 167134, 166321, 166631, 166442, 166887]\n",
      "{1: 166585, 2: 167134, 3: 166321, 4: 166631, 5: 166442, 6: 166887}\n"
     ]
    }
   ],
   "source": [
    "import random as rnd\n",
    "dice_rolls = [rnd.randint(1,6) for i in range(1000000)]\n",
    "\n",
    "number_of_each = [0, 0, 0, 0, 0, 0]\n",
    "\n",
    "for roll in dice_rolls:\n",
    "    number_of_each[roll - 1] += 1\n",
    "\n",
    "print(number_of_each)\n",
    "\n",
    "test = {\n",
    "    1: 0,\n",
    "    2: 0,\n",
    "    3: 0,\n",
    "    4: 0,\n",
    "    5: 0,\n",
    "    6: 0\n",
    "}\n",
    "\n",
    "for roll in dice_rolls:\n",
    "    test[roll] += 1\n",
    "\n",
    "print(test)"
   ]
  },
  {
   "cell_type": "code",
   "execution_count": 27,
   "metadata": {},
   "outputs": [
    {
     "name": "stdout",
     "output_type": "stream",
     "text": [
      "523.5987755982989\n"
     ]
    }
   ],
   "source": [
    "import math\n",
    "\n",
    "def volume(radius: float) -> float:\n",
    "    return (4 * math.pi * (radius ** 3)) / 3\n",
    "\n",
    "print(volume(5))"
   ]
  },
  {
   "cell_type": "code",
   "execution_count": 142,
   "metadata": {},
   "outputs": [
    {
     "name": "stdout",
     "output_type": "stream",
     "text": [
      "v42\n",
      "Chili sin carne\n",
      "Pannkakor\n",
      "Ã„rtsoppa\n",
      "Kebab\n",
      "Vegetarisk lasagne\n"
     ]
    }
   ],
   "source": [
    "with open(\"bamba.txt\", \"r\") as textfile:\n",
    "    read_text = [line.strip(\"\\n\") for line in textfile.readlines()]\n",
    "\n",
    "for line in read_text:\n",
    "    print(line)"
   ]
  },
  {
   "cell_type": "code",
   "execution_count": 170,
   "metadata": {},
   "outputs": [
    {
     "name": "stdout",
     "output_type": "stream",
     "text": [
      "2.23606797749979\n",
      "5.0990195135927845\n",
      "11.704699910719626\n"
     ]
    }
   ],
   "source": [
    "import math\n",
    "\n",
    "def distance(point1, point2) -> float:\n",
    "    return math.sqrt((point1[0] - point2[0]) ** 2 + (point1[1] - point2[1]) ** 2)\n",
    "\n",
    "with open(\"testpoints/testpoints.txt\", \"r\") as textfile:\n",
    "    textlines = textfile.readlines()[1:]\n",
    "    coordinates = [eval(line) for line in textlines]\n",
    "\n",
    "for coordinate in coordinates:\n",
    "    print(distance(coordinate[0], coordinate[1]))\n"
   ]
  },
  {
   "cell_type": "code",
   "execution_count": null,
   "metadata": {},
   "outputs": [],
   "source": [
    "import random as rnd\n",
    "\n",
    "kortlek = [[True, True, True, True, True, True, True, True, True, True, True, True], \n",
    "            [True, True, True, True, True, True, True, True, True, True, True, True], \n",
    "            [True, True, True, True, True, True, True, True, True, True, True, True],\n",
    "            [True, True, True, True, True, True, True, True, True, True, True, True]]\n",
    "\n",
    "dealer_cards = []\n",
    "player_cards = []\n",
    "\n",
    "def pick_random_card():\n",
    "    \n"
   ]
  },
  {
   "cell_type": "code",
   "execution_count": 169,
   "metadata": {},
   "outputs": [],
   "source": [
    "import math\n",
    "import matplotlib.pyplot as plt\n",
    "\n",
    "class NormalDist:\n",
    "    def __init__(self, mu: float, sigma: float):\n",
    "        self.mu = mu\n",
    "        self.sigma = sigma\n",
    "\n",
    "    @property\n",
    "    def mu(self) -> float:\n",
    "        return self._mu\n",
    "\n",
    "    @mu.setter\n",
    "    def mu(self, value: float) -> None:\n",
    "        if not isinstance(value, (float, int)):\n",
    "            raise TypeError(f\"mu has to be int or float, not {type(value)}\")\n",
    "        self._mu = value\n",
    "    \n",
    "    @property\n",
    "    def sigma(self) -> float:\n",
    "        return self._sigma\n",
    "\n",
    "    @sigma.setter\n",
    "    def sigma(self, value: float) -> None:\n",
    "        if not isinstance(value, (int, float)):\n",
    "            raise TypeError(f\"sigma has to be int or float, not {type(value)}\")\n",
    "        self._sigma = value\n",
    "\n",
    "    def pdf(self, x: float) -> float:\n",
    "        return (1 / (self.sigma * math.sqrt(2 * math.pi))) * math.e ** ((-1 / 2) * (((x - self.mu) / self.sigma) ** 2))\n",
    "\n",
    "    def plot_pdf(self, x: float) -> None:\n",
    "        fig, ax = plt.subplots()\n",
    "        plt.plot(self.pdf(x))\n",
    "\n",
    "    def __add__(self, other) -> \"NormalDist\":\n",
    "        return NormalDist(self.mu + other.mu, self.sigma + other.sigma)\n",
    "    \n",
    "    def __repr__(self) -> str:\n",
    "        return f\"NormalDist object with mu: {self.mu} and sigma: {self.sigma}\"\n"
   ]
  },
  {
   "cell_type": "code",
   "execution_count": null,
   "metadata": {},
   "outputs": [],
   "source": []
  }
 ],
 "metadata": {
  "interpreter": {
   "hash": "d79aabc64346e3d033e945320f2a08fb0fa9fd1b9db31938ca2454b42e9481f3"
  },
  "kernelspec": {
   "display_name": "Python 3.9.7 64-bit ('python-programming-CHRISTOPHER-SEANDER-_MtM-ALF': pipenv)",
   "name": "python3"
  },
  "language_info": {
   "codemirror_mode": {
    "name": "ipython",
    "version": 3
   },
   "file_extension": ".py",
   "mimetype": "text/x-python",
   "name": "python",
   "nbconvert_exporter": "python",
   "pygments_lexer": "ipython3",
   "version": "3.9.7"
  },
  "orig_nbformat": 4
 },
 "nbformat": 4,
 "nbformat_minor": 2
}
