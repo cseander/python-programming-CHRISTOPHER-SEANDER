{
 "cells": [
  {
   "cell_type": "markdown",
   "source": [
    "# Lab 2 - Classify Pichu & Pikachu"
   ],
   "metadata": {}
  },
  {
   "cell_type": "markdown",
   "source": [
    "## Read files\r\n",
    "- pichu.txt\r\n",
    "- pikachu.txt\r\n",
    "- test_points.txt"
   ],
   "metadata": {}
  },
  {
   "cell_type": "code",
   "execution_count": 171,
   "source": [
    "import numpy as np\r\n",
    "\r\n",
    "pichu_path = \"files_lab2/pichu.txt\"\r\n",
    "pikachu_path = \"files_lab2/pikachu.txt\"\r\n",
    "test_points_path = \"files_lab2/test_points.txt\"\r\n",
    "\r\n",
    "# read files as [[x, y], [x, y],...,[x, y]]\r\n",
    "with open(pichu_path, \"r\") as f_pichu, open(pikachu_path, \"r\") as f_pikachu, open(test_points_path, \"r\") as f_test_points:\r\n",
    "    pichu = np.array([points.strip(\"(\").strip(\")\").split(\", \") for points in (value.strip(\"\\n\") for value in f_pichu.readlines())][1:], float)\r\n",
    "    pikachu = np.array([points.strip(\"(\").strip(\")\").split(\", \") for points in (value.strip(\"\\n\") for value in f_pikachu.readlines())][1:], float)\r\n",
    "    test_points = np.array([points.split(\",\") for points in (point.replace(\"(\", \"\").replace(\" \", \"\").replace(\")\", \"\") for point in f_test_points.readlines()[0].split(\"), \"))], float)"
   ],
   "outputs": [],
   "metadata": {}
  },
  {
   "cell_type": "markdown",
   "source": [
    "## Plot pichu, pikachu and test points"
   ],
   "metadata": {}
  },
  {
   "cell_type": "code",
   "execution_count": 172,
   "source": [
    "import matplotlib.pyplot as plt\r\n",
    "\r\n",
    "plt.figure(figsize=(12,12))\r\n",
    "plt.scatter(pichu[:, 0], pichu[:, 1], color = \"red\", label = \"Pichu\", marker = \"x\")\r\n",
    "plt.scatter(pikachu[:, 0], pikachu[:, 1], color = \"blue\", label = \"Pikachu\")\r\n",
    "plt.scatter(test_points[:, 0], test_points[:, 1], color = \"green\", label = \"Test points\", marker = \"+\")\r\n",
    "\r\n",
    "plt.xlabel(\"Width (cm)\")\r\n",
    "plt.ylabel(\"Height (cm)\")\r\n",
    "plt.title(\"Pichu, Pikachu & Test points\")\r\n",
    "plt.legend()\r\n",
    "plt.show()\r\n"
   ],
   "outputs": [
    {
     "output_type": "display_data",
     "data": {
      "image/png": "[encoded data removed]",
      "text/plain": [
       "<Figure size 864x864 with 1 Axes>"
      ]
     },
     "metadata": {
      "needs_background": "light"
     }
    }
   ],
   "metadata": {}
  },
  {
   "cell_type": "markdown",
   "source": [
    "## Calculate distance between test points and the rest of the data"
   ],
   "metadata": {}
  },
  {
   "cell_type": "code",
   "execution_count": 181,
   "source": [
    "import math \r\n",
    "\r\n",
    "# returns the euclidean distance between two points\r\n",
    "def euclidean_distance(points_p, points_q) -> float:\r\n",
    "    return math.sqrt((points_q[0] - points_p[0]) ** 2 + (points_q[1] - points_p[1]) ** 2)\r\n",
    "\r\n",
    "# returns the shortest distance between a point and a set of points\r\n",
    "def closest_distance(test_point, data_points) -> float:\r\n",
    "    return min([euclidean_distance(test_point, data_point) for data_point in data_points])\r\n",
    "\r\n",
    "# classifies if a point is either pikachu or pichu\r\n",
    "def classify(test_point, pichu_points, pikachu_points) -> str:\r\n",
    "    if closest_distance(test_point, pichu_points) > closest_distance(test_point, pikachu_points):\r\n",
    "        return \"Pikachu\"\r\n",
    "    else:\r\n",
    "        return \"Pichu\"\r\n",
    "\r\n",
    "# loops through all test points\r\n",
    "for point in test_points:\r\n",
    "        print(f\"Test point ({int(point[0])}, {int(point[1])}) classified as {classify(point, pichu, pikachu)}\")"
   ],
   "outputs": [
    {
     "output_type": "stream",
     "name": "stdout",
     "text": [
      "Test point (25, 35) classified as Pikachu\n",
      "Test point (15, 14) classified as Pichu\n",
      "Test point (26, 30) classified as Pichu\n",
      "Test point (22, 45) classified as Pikachu\n"
     ]
    }
   ],
   "metadata": {}
  },
  {
   "cell_type": "markdown",
   "source": [
    "## User input data"
   ],
   "metadata": {}
  },
  {
   "cell_type": "code",
   "execution_count": 178,
   "source": [
    "import re\r\n",
    "\r\n",
    "# will ask the user for an input until its in the correct format\r\n",
    "while(True):\r\n",
    "    try:\r\n",
    "        user_input = input(\"Test: \")\r\n",
    "        if not bool(re.match(\"\\d{2},\\d{2}$\", user_input)):     # this will check for negative numbers as well since it wont accept any sign \"-\" before the number\r\n",
    "            raise TypeError(\"Please enter two positive numbers as a point like this: 12,34\")\r\n",
    "        user_input = [float(value) for value in user_input.split(\",\")]\r\n",
    "        break\r\n",
    "    except TypeError as err:\r\n",
    "        print(err)\r\n",
    "    \r\n",
    "print(f\"Test point ({int(user_input[0])}, {int(user_input[1])}) classified as {classify(user_input, pichu, pikachu)}\")"
   ],
   "outputs": [
    {
     "output_type": "stream",
     "name": "stdout",
     "text": [
      "Test point (12, 12) classified as Pichu\n"
     ]
    }
   ],
   "metadata": {}
  },
  {
   "cell_type": "markdown",
   "source": [
    "## 5 closest points classification"
   ],
   "metadata": {}
  },
  {
   "cell_type": "code",
   "execution_count": 193,
   "source": [
    "def five_closest(test_point, pichu_data, pikachu_data):\r\n",
    "    # adds all points with corresponding label (Pichu or Pikachu)\r\n",
    "    distance = []\r\n",
    "    for point in pichu_data:\r\n",
    "        distance.append([euclidean_distance(test_point, point), \"Pichu\"])\r\n",
    "    for point in pikachu_data:\r\n",
    "        distance.append([euclidean_distance(test_point, point), \"Pikachu\"])\r\n",
    "\r\n",
    "    # sorts by distance and returns the 5 lowest\r\n",
    "    # found this https://stackoverflow.com/questions/20183069/how-to-sort-multidimensional-array-by-column for how to sort a 2D array on first column\r\n",
    "    return sorted(distance, key = lambda x : x[0])[:5]\r\n",
    "\r\n",
    "# returns pikachu or pichu as to which has the majority\r\n",
    "def classify_by_closest_five(closest_five) -> str:\r\n",
    "    pikachu_count = 0\r\n",
    "    for distance in closest_five:\r\n",
    "        if distance[1] == \"Pikachu\":\r\n",
    "            pikachu_count += 1\r\n",
    "    if pikachu_count > 2:\r\n",
    "        return \"Pikachu\"\r\n",
    "    else:\r\n",
    "        return \"Pichu\"\r\n",
    "\r\n",
    "# loops through all test points \r\n",
    "for point in test_points:\r\n",
    "    print(f\"Test point ({int(point[0])}, {int(point[1])}) classified as {classify_by_closest_five(five_closest(point, pichu, pikachu))}\")"
   ],
   "outputs": [
    {
     "output_type": "stream",
     "name": "stdout",
     "text": [
      "Test point (25, 35) classified as Pikachu\n",
      "Test point (15, 14) classified as Pichu\n",
      "Test point (26, 30) classified as Pichu\n",
      "Test point (22, 45) classified as Pikachu\n"
     ]
    }
   ],
   "metadata": {}
  },
  {
   "cell_type": "markdown",
   "source": [
    "# Bonus assignments\r\n",
    "- Split the data into 90 training data (45 Pikachu, 45 Pichu) and 10 test data (5 Pikachu, 5 Pichu)\r\n",
    "- Calculate accuracy with formula: accuracy = (Pichu predicted correct + Pikachu predicted correct) / total"
   ],
   "metadata": {}
  },
  {
   "cell_type": "code",
   "execution_count": 195,
   "source": [
    "import random as rnd\r\n",
    "\r\n",
    "rnd.seed(123)    # seed = 123 so the result will be replicable\r\n",
    "random_traning_data_index = rnd.sample(range(50), 45)   # 45 random numbers between 0 and 49\r\n",
    "random_test_data_index = [i for i in range(50) if i not in random_traning_data_index]   # missing numbers from \"random_traning_data_index\" between 0 and 49\r\n",
    "\r\n",
    "# picking training data and test data for Pichu and Pikachu\r\n",
    "training_data_pichu = [pichu[i] for i in random_traning_data_index]\r\n",
    "test_data_pichu = [pichu[i] for i in random_test_data_index]\r\n",
    "training_data_pikachu = [pikachu[i] for i in random_traning_data_index]\r\n",
    "test_data_pikachu = [pikachu[i] for i in random_test_data_index]\r\n",
    "\r\n",
    "# returns how many times the prediction was correct\r\n",
    "def test_prediction(test_points, predicted: str) -> int:\r\n",
    "    predicted_correct = 0\r\n",
    "    for test_point in test_points:\r\n",
    "        if classify_by_closest_five(five_closest(test_point, training_data_pichu, training_data_pikachu)) == predicted:\r\n",
    "            predicted_correct += 1\r\n",
    "    return predicted_correct\r\n",
    "\r\n",
    "pichu_predicted_correct = test_prediction(test_data_pichu, \"Pichu\")\r\n",
    "pikachu_predicted_correct = test_prediction(test_data_pikachu, \"Pikachu\")\r\n",
    "total = len(test_data_pichu + test_data_pikachu)\r\n",
    "\r\n",
    "print(f\"Accuracy: {int(((pichu_predicted_correct + pikachu_predicted_correct) / total) * 100)}%\")"
   ],
   "outputs": [
    {
     "output_type": "stream",
     "name": "stdout",
     "text": [
      "Accuracy: 100%\n"
     ]
    }
   ],
   "metadata": {}
  }
 ],
 "metadata": {
  "orig_nbformat": 4,
  "language_info": {
   "name": "python",
   "version": "3.9.6",
   "mimetype": "text/x-python",
   "codemirror_mode": {
    "name": "ipython",
    "version": 3
   },
   "pygments_lexer": "ipython3",
   "nbconvert_exporter": "python",
   "file_extension": ".py"
  },
  "kernelspec": {
   "name": "python3",
   "display_name": "Python 3.9.6 64-bit ('portfolio-CHRISTOPHER-SEANDER-lOS1B_SO': pipenv)"
  },
  "interpreter": {
   "hash": "8f88897ffdbbb96e3d8311f44c34c21629e8ca4e17fed34549530a72a7767cfe"
  }
 },
 "nbformat": 4,
 "nbformat_minor": 2
}