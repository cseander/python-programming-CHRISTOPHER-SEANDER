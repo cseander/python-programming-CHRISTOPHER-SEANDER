{
 "cells": [
  {
   "cell_type": "markdown",
   "source": [
    "# 1"
   ],
   "metadata": {}
  },
  {
   "cell_type": "code",
   "execution_count": 3,
   "source": [
    "import random\n",
    "new_list = [random.randint(1, 10) for item in range(10)]\n",
    "\n",
    "ascending_list = new_list.copy()\n",
    "ascending_list.sort()\n",
    "decending_list = new_list.copy()\n",
    "decending_list.sort(reverse = True)\n",
    "\n",
    "print(ascending_list)\n",
    "print(decending_list)\n",
    "print(f\"Max: {max(new_list)} Min: {min(new_list)}\")"
   ],
   "outputs": [
    {
     "output_type": "stream",
     "name": "stdout",
     "text": [
      "[1, 1, 3, 5, 5, 6, 6, 8, 8, 9]\n",
      "[9, 8, 8, 6, 6, 5, 5, 3, 1, 1]\n",
      "Max: 9 Min: 1\n"
     ]
    }
   ],
   "metadata": {}
  },
  {
   "cell_type": "markdown",
   "source": [],
   "metadata": {}
  }
 ],
 "metadata": {
  "orig_nbformat": 4,
  "language_info": {
   "name": "python",
   "version": "3.9.6",
   "mimetype": "text/x-python",
   "codemirror_mode": {
    "name": "ipython",
    "version": 3
   },
   "pygments_lexer": "ipython3",
   "nbconvert_exporter": "python",
   "file_extension": ".py"
  },
  "kernelspec": {
   "name": "python3",
   "display_name": "Python 3.9.6 64-bit ('python_programmering': conda)"
  },
  "interpreter": {
   "hash": "542aaf68b55b5c6f19ca97c058242afc248072e97d95b107dab6986e9412abbe"
  }
 },
 "nbformat": 4,
 "nbformat_minor": 2
}