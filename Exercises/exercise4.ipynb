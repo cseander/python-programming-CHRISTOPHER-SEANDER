{
 "cells": [
  {
   "cell_type": "markdown",
   "source": [
    "# 1"
   ],
   "metadata": {}
  },
  {
   "cell_type": "code",
   "execution_count": 3,
   "source": [
    "import random\r\n",
    "new_list = [random.randint(1, 10) for item in range(10)]\r\n",
    "\r\n",
    "ascending_list = new_list.copy()\r\n",
    "ascending_list.sort()\r\n",
    "decending_list = new_list.copy()\r\n",
    "decending_list.sort(reverse = True)\r\n",
    "\r\n",
    "print(ascending_list)\r\n",
    "print(decending_list)\r\n",
    "print(f\"Max: {max(new_list)} Min: {min(new_list)}\")"
   ],
   "outputs": [
    {
     "output_type": "stream",
     "name": "stdout",
     "text": [
      "[1, 1, 3, 5, 5, 6, 6, 8, 8, 9]\n",
      "[9, 8, 8, 6, 6, 5, 5, 3, 1, 1]\n",
      "Max: 9 Min: 1\n"
     ]
    }
   ],
   "metadata": {}
  },
  {
   "cell_type": "markdown",
   "source": [
    "# 2"
   ],
   "metadata": {}
  },
  {
   "cell_type": "code",
   "execution_count": 2,
   "source": [
    "mat = [\"vegetarisk lasange\", \"spaghetti\", \"fisk\", \"grönsakssoppa\", \"pannkakor\"]\r\n",
    "dagar = [\"monday\", \"tuesday\", \"wednesday\", \"thursday\", \"friday\"]\r\n",
    "\r\n",
    "for i in range(5):\r\n",
    "    print(f\"{dagar[i]}: {mat[i]}\")"
   ],
   "outputs": [
    {
     "output_type": "stream",
     "name": "stdout",
     "text": [
      "monday: vegetarisk lasange\n",
      "tuesday: spaghetti\n",
      "wednesday: fisk\n",
      "thursday: grönsakssoppa\n",
      "friday: pannkakor\n"
     ]
    }
   ],
   "metadata": {}
  },
  {
   "cell_type": "markdown",
   "source": [
    "# 3"
   ],
   "metadata": {}
  },
  {
   "cell_type": "code",
   "execution_count": 2,
   "source": [
    "import matplotlib.pyplot as plt\r\n",
    "squares = [x**2 for x in range(-10, 11)]\r\n",
    "print(squares)\r\n",
    "\r\n",
    "plt.plot(squares)"
   ],
   "outputs": [
    {
     "output_type": "stream",
     "name": "stdout",
     "text": [
      "[100, 81, 64, 49, 36, 25, 16, 9, 4, 1, 0, 1, 4, 9, 16, 25, 36, 49, 64, 81, 100]\n"
     ]
    },
    {
     "output_type": "execute_result",
     "data": {
      "text/plain": [
       "[<matplotlib.lines.Line2D at 0x1b7395656a0>]"
      ]
     },
     "metadata": {},
     "execution_count": 2
    },
    {
     "output_type": "display_data",
     "data": {
      "image/png": "[encoded data removed]",
      "text/plain": [
       "<Figure size 432x288 with 1 Axes>"
      ]
     },
     "metadata": {
      "needs_background": "light"
     }
    }
   ],
   "metadata": {}
  },
  {
   "cell_type": "markdown",
   "source": [
    "# 4"
   ],
   "metadata": {}
  },
  {
   "cell_type": "code",
   "execution_count": 18,
   "source": [
    "import string\r\n",
    "\r\n",
    "first_row = [string.ascii_uppercase[i] + \"1\" for i in range(8)]\r\n",
    "print(first_row)\r\n",
    "\r\n",
    "chessboard = [[string.ascii_uppercase[i] + str(j+1) for i in range(8)] for j in range(8)]\r\n",
    "for row in chessboard:\r\n",
    "    print(row)"
   ],
   "outputs": [
    {
     "output_type": "stream",
     "name": "stdout",
     "text": [
      "['A1', 'B1', 'C1', 'D1', 'E1', 'F1', 'G1', 'H1']\n",
      "['A1', 'B1', 'C1', 'D1', 'E1', 'F1', 'G1', 'H1']\n",
      "['A2', 'B2', 'C2', 'D2', 'E2', 'F2', 'G2', 'H2']\n",
      "['A3', 'B3', 'C3', 'D3', 'E3', 'F3', 'G3', 'H3']\n",
      "['A4', 'B4', 'C4', 'D4', 'E4', 'F4', 'G4', 'H4']\n",
      "['A5', 'B5', 'C5', 'D5', 'E5', 'F5', 'G5', 'H5']\n",
      "['A6', 'B6', 'C6', 'D6', 'E6', 'F6', 'G6', 'H6']\n",
      "['A7', 'B7', 'C7', 'D7', 'E7', 'F7', 'G7', 'H7']\n",
      "['A8', 'B8', 'C8', 'D8', 'E8', 'F8', 'G8', 'H8']\n"
     ]
    }
   ],
   "metadata": {}
  },
  {
   "cell_type": "markdown",
   "source": [
    "# 5"
   ],
   "metadata": {}
  },
  {
   "cell_type": "code",
   "execution_count": 13,
   "source": [
    "import random as rnd\r\n",
    "import matplotlib.pyplot as plt\r\n",
    "\r\n",
    "sixes = 0\r\n",
    "for i in range(100):\r\n",
    "    new_random = rnd.randint(1,6)\r\n",
    "    if new_random == 6:\r\n",
    "        sixes += 1\r\n",
    "print(f\"Number of sixes: {sixes}\")\r\n",
    "\r\n",
    "result = []\r\n",
    "for i in range(6):\r\n",
    "    new_sixes = 0\r\n",
    "    for x in range(10**(i+1)):\r\n",
    "        new_random = rnd.randint(1,6)\r\n",
    "        if new_random == 6:\r\n",
    "            new_sixes += 1\r\n",
    "    result.append(new_sixes)\r\n",
    "print(result)\r\n",
    "\r\n",
    "probability = [result[i]/(10**(i+1)) for i in range(6)]\r\n",
    "print(probability)\r\n",
    "\r\n",
    "plt.plot(probability)"
   ],
   "outputs": [
    {
     "output_type": "stream",
     "name": "stdout",
     "text": [
      "Number of sixes: 12\n",
      "[2, 15, 161, 1700, 16843, 166310]\n",
      "[0.2, 0.15, 0.161, 0.17, 0.16843, 0.16631]\n"
     ]
    },
    {
     "output_type": "execute_result",
     "data": {
      "text/plain": [
       "[<matplotlib.lines.Line2D at 0x1be5ab37a60>]"
      ]
     },
     "metadata": {},
     "execution_count": 13
    },
    {
     "output_type": "display_data",
     "data": {
      "image/png": "[encoded data removed]",
      "text/plain": [
       "<Figure size 432x288 with 1 Axes>"
      ]
     },
     "metadata": {
      "needs_background": "light"
     }
    }
   ],
   "metadata": {}
  },
  {
   "cell_type": "code",
   "execution_count": null,
   "source": [],
   "outputs": [],
   "metadata": {}
  }
 ],
 "metadata": {
  "orig_nbformat": 4,
  "language_info": {
   "name": "python",
   "version": "3.9.6",
   "mimetype": "text/x-python",
   "codemirror_mode": {
    "name": "ipython",
    "version": 3
   },
   "pygments_lexer": "ipython3",
   "nbconvert_exporter": "python",
   "file_extension": ".py"
  },
  "kernelspec": {
   "name": "python3",
   "display_name": "Python 3.9.6 64-bit ('portfolio-CHRISTOPHER-SEANDER-lOS1B_SO': pipenv)"
  },
  "interpreter": {
   "hash": "8f88897ffdbbb96e3d8311f44c34c21629e8ca4e17fed34549530a72a7767cfe"
  }
 },
 "nbformat": 4,
 "nbformat_minor": 2
}