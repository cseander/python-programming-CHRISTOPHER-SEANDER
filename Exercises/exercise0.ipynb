{
 "cells": [
  {
   "cell_type": "markdown",
   "source": [
    "# 1. Pythagorean theorem\n",
    "a)"
   ],
   "metadata": {}
  },
  {
   "cell_type": "code",
   "execution_count": 3,
   "source": [
    "import math\n",
    "\n",
    "a = 3\n",
    "b = 4\n",
    "\n",
    "c = math.sqrt(math.pow(a, 2) + math.pow(b, 2))\n",
    "print(f\"The hypotheneuse is {c}\")"
   ],
   "outputs": [
    {
     "output_type": "stream",
     "name": "stdout",
     "text": [
      "The hypotheneuse is 5.0\n"
     ]
    }
   ],
   "metadata": {}
  },
  {
   "cell_type": "markdown",
   "source": [
    "b)"
   ],
   "metadata": {}
  },
  {
   "cell_type": "code",
   "execution_count": 4,
   "source": [
    "c = 7.0\n",
    "a = 5.0\n",
    "\n",
    "b = round(math.sqrt(math.pow(c, 2) - math.pow(a, 2)), 1)\n",
    "print(f\"The other cathetus is {b}\")"
   ],
   "outputs": [
    {
     "output_type": "stream",
     "name": "stdout",
     "text": [
      "The other cathetus is 4.9\n"
     ]
    }
   ],
   "metadata": {}
  },
  {
   "cell_type": "markdown",
   "source": [
    "# 2. Classification accuracy"
   ],
   "metadata": {}
  },
  {
   "cell_type": "code",
   "execution_count": 5,
   "source": [
    "predictions = 365\n",
    "correct = 300\n",
    "\n",
    "accuracy = round((correct / predictions) * 100, 1)\n",
    "print(f\"The accuracy of this model is {accuracy}%\")"
   ],
   "outputs": [
    {
     "output_type": "stream",
     "name": "stdout",
     "text": [
      "The accuracy of this model is 82.2%\n"
     ]
    }
   ],
   "metadata": {}
  },
  {
   "cell_type": "markdown",
   "source": [
    "# 3. Classification accuracy"
   ],
   "metadata": {}
  },
  {
   "cell_type": "code",
   "execution_count": 6,
   "source": [
    "TP = 2\n",
    "FP = 2\n",
    "FN = 11\n",
    "TN = 985\n",
    "\n",
    "accuracy = (TP + TN) / (TP + TN + FP + FN)\n",
    "print(f\"The accuracy of this model is {accuracy}\")"
   ],
   "outputs": [
    {
     "output_type": "stream",
     "name": "stdout",
     "text": [
      "The accuracy of this model is 0.987\n"
     ]
    }
   ],
   "metadata": {}
  },
  {
   "cell_type": "markdown",
   "source": [
    "I think the False Negative category is frightening because it predicted no fire in 11 situations where there was a fire."
   ],
   "metadata": {}
  },
  {
   "cell_type": "markdown",
   "source": [
    "# 4. Line"
   ],
   "metadata": {}
  },
  {
   "cell_type": "code",
   "execution_count": 7,
   "source": [
    "A = (4,4)\n",
    "B = (0,1)\n",
    "\n",
    "k = (B[1] - A[1]) / (B[0] - A[0])\n",
    "m = A[1]- (k * A[0])\n",
    "\n",
    "print(f\"The slope is {k} and the constant term is {m}, the equations is y = {k}x + {m}\")"
   ],
   "outputs": [
    {
     "output_type": "stream",
     "name": "stdout",
     "text": [
      "The slope is 0.75 and the constant term is 1.0, the equations is y = 0.75x + 1.0\n"
     ]
    }
   ],
   "metadata": {}
  },
  {
   "cell_type": "markdown",
   "source": [
    "# 5. Euclidean distance"
   ],
   "metadata": {}
  },
  {
   "cell_type": "code",
   "execution_count": 10,
   "source": [
    "point1 = (3,5)\n",
    "point2 = (-2,4)\n",
    "\n",
    "distance = math.sqrt(math.pow(point2[0] - point1[0], 2) + math.pow(point2[1] - point1[1], 2))\n",
    "print(f\"The distance is {round(distance, 1)}\")"
   ],
   "outputs": [
    {
     "output_type": "stream",
     "name": "stdout",
     "text": [
      "The distance is 5.1\n"
     ]
    }
   ],
   "metadata": {}
  },
  {
   "cell_type": "markdown",
   "source": [
    "# 6. Euclidean distance in 3D"
   ],
   "metadata": {}
  },
  {
   "cell_type": "code",
   "execution_count": 9,
   "source": [
    "from scipy.spatial import distance\n",
    "\n",
    "point1 = (2,1,4)\n",
    "point2 = (3,1,0)\n",
    "\n",
    "result = distance.euclidean(point1, point2)\n",
    "print(f\"The distance between the points is {result:.2f}\")"
   ],
   "outputs": [
    {
     "output_type": "stream",
     "name": "stdout",
     "text": [
      "The distance between the points is 4.12\n"
     ]
    }
   ],
   "metadata": {}
  }
 ],
 "metadata": {
  "orig_nbformat": 4,
  "language_info": {
   "name": "python",
   "version": "3.9.6",
   "mimetype": "text/x-python",
   "codemirror_mode": {
    "name": "ipython",
    "version": 3
   },
   "pygments_lexer": "ipython3",
   "nbconvert_exporter": "python",
   "file_extension": ".py"
  },
  "kernelspec": {
   "name": "python3",
   "display_name": "Python 3.9.6 64-bit ('base': conda)"
  },
  "interpreter": {
   "hash": "95ec9ec1504d83f612128e0fb229072f90bbb4cb09d9d5d93b5dd26e0ca2cfd1"
  }
 },
 "nbformat": 4,
 "nbformat_minor": 2
}