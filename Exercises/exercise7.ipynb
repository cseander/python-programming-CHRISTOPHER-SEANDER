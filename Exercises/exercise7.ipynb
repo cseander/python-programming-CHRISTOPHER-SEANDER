{
 "cells": [
  {
   "cell_type": "markdown",
   "source": [
    "# 1"
   ],
   "metadata": {}
  },
  {
   "cell_type": "code",
   "execution_count": 3,
   "source": [
    "import numpy as np\r\n",
    " \r\n",
    "def distance(x,y):\r\n",
    "    return np.sqrt(x+y)\r\n",
    " \r\n",
    "print(distance([0.5, 0.5], [0.0, 0.0]))"
   ],
   "outputs": [
    {
     "output_type": "stream",
     "name": "stdout",
     "text": [
      "[0.70710678 0.70710678 0.         0.        ]\n"
     ]
    }
   ],
   "metadata": {}
  },
  {
   "cell_type": "markdown",
   "source": [
    "# 2"
   ],
   "metadata": {}
  },
  {
   "cell_type": "code",
   "execution_count": 5,
   "source": [
    "def is_fourdigit(number):\r\n",
    "    if number//1000 < 10:\r\n",
    "        return True\r\n",
    "    else: \r\n",
    "        return False\r\n",
    " \r\n",
    "# test program\r\n",
    "test_numbers = [231, 3124, -4124, -1000,-999, 1001, 10000, -10000, 999]\r\n",
    " \r\n",
    "for number in test_numbers:\r\n",
    "    if is_fourdigit(number):\r\n",
    "        print(f\"{number} is four-digit\")\r\n",
    "    else:\r\n",
    "        print(f\"{number} is not four-digit\")\r\n",
    " "
   ],
   "outputs": [
    {
     "output_type": "stream",
     "name": "stdout",
     "text": [
      "231 is four-digit\n",
      "3124 is four-digit\n",
      "-4124 is four-digit\n",
      "-1000 is four-digit\n",
      "-999 is four-digit\n",
      "1001 is four-digit\n",
      "10000 is not four-digit\n",
      "-10000 is four-digit\n",
      "999 is four-digit\n"
     ]
    }
   ],
   "metadata": {}
  },
  {
   "cell_type": "markdown",
   "source": [
    "# 3"
   ],
   "metadata": {}
  },
  {
   "cell_type": "code",
   "execution_count": 18,
   "source": [
    "def question(question_text, error_message, upper_limit):\r\n",
    "    while True:\r\n",
    "        user_input = input(question_text)\r\n",
    "        if float(user_input) > 0 and float(user_input) < upper_limit:\r\n",
    "            return float(user_input)\r\n",
    "            break\r\n",
    "        else:\r\n",
    "            print(error_message)\r\n",
    "        \r\n",
    "number_of_times = question(\"How many times will you travel? \", \"Please enter a valid number 0-100\", 100)\r\n",
    "ticket_price = question(\"Whats the price of one ticket?\", \"Please enter a valid price 0-250\", 250)\r\n",
    "monthly_card_price = question(\"Whats the price of a monthly card?\", \"Please enter a valid price 0-5000\", 5000)\r\n",
    "\r\n",
    "if number_of_times * ticket_price < monthly_card_price:\r\n",
    "    print(\"You will save money if you purchase tickets each trip!\")\r\n",
    "else:\r\n",
    "    print(\"Your will save money if you purchase a monthly card!\")\r\n"
   ],
   "outputs": [
    {
     "output_type": "stream",
     "name": "stdout",
     "text": [
      "Your will save money if you purchase a monthly card!\n"
     ]
    }
   ],
   "metadata": {}
  }
 ],
 "metadata": {
  "orig_nbformat": 4,
  "language_info": {
   "name": "python",
   "version": "3.9.6",
   "mimetype": "text/x-python",
   "codemirror_mode": {
    "name": "ipython",
    "version": 3
   },
   "pygments_lexer": "ipython3",
   "nbconvert_exporter": "python",
   "file_extension": ".py"
  },
  "kernelspec": {
   "name": "python3",
   "display_name": "Python 3.9.6 64-bit ('portfolio-CHRISTOPHER-SEANDER-lOS1B_SO': pipenv)"
  },
  "interpreter": {
   "hash": "8f88897ffdbbb96e3d8311f44c34c21629e8ca4e17fed34549530a72a7767cfe"
  }
 },
 "nbformat": 4,
 "nbformat_minor": 2
}