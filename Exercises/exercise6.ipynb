{
 "cells": [
  {
   "cell_type": "markdown",
   "source": [
    "# 1"
   ],
   "metadata": {}
  },
  {
   "cell_type": "code",
   "execution_count": 3,
   "source": [
    "def area(base, height):\r\n",
    "    return (base * height) / 2\r\n",
    "\r\n",
    "print(area(5, 4))"
   ],
   "outputs": [
    {
     "output_type": "stream",
     "name": "stdout",
     "text": [
      "10.0\n"
     ]
    }
   ],
   "metadata": {}
  },
  {
   "cell_type": "markdown",
   "source": [
    "# 2"
   ],
   "metadata": {}
  },
  {
   "cell_type": "code",
   "execution_count": 21,
   "source": [
    "import math\r\n",
    "\r\n",
    "def distance(p, q):\r\n",
    "    return math.sqrt((p[0] - q[0]) ** 2 + (p[1] - q[1]) ** 2)\r\n",
    "\r\n",
    "points = [(10, 3), (-1, -9), (10, -10), (4, -2), (9, -10)]\r\n",
    "distances = []\r\n",
    "for point in points:\r\n",
    "    distances.append(round(distance(point, (0, 0)), 2))\r\n",
    "    \r\n",
    "print(distances)\r\n"
   ],
   "outputs": [
    {
     "output_type": "stream",
     "name": "stdout",
     "text": [
      "[10.44, 9.06, 14.14, 4.47, 13.45]\n"
     ]
    }
   ],
   "metadata": {}
  },
  {
   "cell_type": "markdown",
   "source": [
    "# 3"
   ],
   "metadata": {}
  },
  {
   "cell_type": "code",
   "execution_count": 27,
   "source": [
    "import matplotlib.pyplot as plt\r\n",
    "\r\n",
    "f = lambda x: x ** 2 - 3\r\n",
    "g = lambda x: 4 * x - 7\r\n",
    "\r\n",
    "f_result = [f(x) for x in range(-10, 11)]\r\n",
    "g_result = [g(x) for x in range(-10, 11)]\r\n",
    "\r\n",
    "plt.plot(f_result)\r\n",
    "plt.plot(g_result)\r\n"
   ],
   "outputs": [
    {
     "output_type": "execute_result",
     "data": {
      "text/plain": [
       "[<matplotlib.lines.Line2D at 0x208151f47f0>]"
      ]
     },
     "metadata": {},
     "execution_count": 27
    },
    {
     "output_type": "display_data",
     "data": {
      "image/png": "[encoded data removed]",
      "text/plain": [
       "<Figure size 432x288 with 1 Axes>"
      ]
     },
     "metadata": {
      "needs_background": "light"
     }
    }
   ],
   "metadata": {}
  },
  {
   "cell_type": "markdown",
   "source": [
    "# 4"
   ],
   "metadata": {}
  },
  {
   "cell_type": "code",
   "execution_count": 53,
   "source": [
    "def name_fix(name):\r\n",
    "    return name.title().strip()\r\n",
    "    \r\n",
    "names = [\"  MaRcUs \", \" iDA aNderSon\", \"OLOF Olofsson            \"  ]\r\n",
    "\r\n",
    "for name in names:\r\n",
    "    print(name_fix(name))"
   ],
   "outputs": [
    {
     "output_type": "stream",
     "name": "stdout",
     "text": [
      "Marcus\n",
      "Ida Anderson\n",
      "Olof Olofsson\n"
     ]
    }
   ],
   "metadata": {}
  },
  {
   "cell_type": "markdown",
   "source": [
    "# 5"
   ],
   "metadata": {}
  },
  {
   "cell_type": "code",
   "execution_count": 56,
   "source": [
    "def change(value):\r\n",
    "    tusen = 0\r\n",
    "    while value >= 1000:\r\n",
    "        tusen += 1\r\n",
    "        value -= 1000\r\n",
    "    if tusen > 0:\r\n",
    "        print(f\"{tusen}st 1000-lapp\")\r\n",
    "    \r\n",
    "    femhundra = 0\r\n",
    "    while value >= 500:\r\n",
    "        femhundra += 1\r\n",
    "        value -= 500\r\n",
    "    if femhundra > 0:\r\n",
    "        print(f\"{femhundra}st 500-lapp\")\r\n",
    "    \r\n",
    "    tvahundra = 0\r\n",
    "    while value >= 200:\r\n",
    "        tvahundra += 1\r\n",
    "        value -= 200\r\n",
    "    if tvahundra > 0:\r\n",
    "        print(f\"{tvahundra}st 200-lapp\")\r\n",
    "    \r\n",
    "    etthundra = 0\r\n",
    "    while value >= 100:\r\n",
    "        etthundra += 1\r\n",
    "        value -= 100\r\n",
    "    if etthundra > 0:\r\n",
    "        print(f\"{etthundra}st 200-lapp\")\r\n",
    "\r\n",
    "    femtio = 0\r\n",
    "    while value >= 50:\r\n",
    "        femtio += 1\r\n",
    "        value -= 50\r\n",
    "    if femtio > 0:\r\n",
    "        print(f\"{femtio}st 50-lapp\")\r\n",
    "    \r\n",
    "    tjugo = 0\r\n",
    "    while value >= 20:\r\n",
    "        tjugo += 1\r\n",
    "        value -= 20\r\n",
    "    if tjugo > 0:\r\n",
    "        print(f\"{tjugo}st 20-lapp\")\r\n",
    "    \r\n",
    "    tio = 0\r\n",
    "    while value >= 10:\r\n",
    "        tio += 1\r\n",
    "        value -= 10\r\n",
    "    if tio > 0:\r\n",
    "        print(f\"{tio}st 10-krona\")\r\n",
    "    \r\n",
    "    fem = 0\r\n",
    "    while value >= 5:\r\n",
    "        fem += 1\r\n",
    "        value -= 5\r\n",
    "    if fem > 0:\r\n",
    "        print(f\"{fem}st 5-krona\")\r\n",
    "    \r\n",
    "    tva = 0\r\n",
    "    while value >= 2:\r\n",
    "        tva += 1\r\n",
    "        value -= 2\r\n",
    "    if tva > 0:\r\n",
    "        print(f\"{tva}st 2-krona\")\r\n",
    "    \r\n",
    "    ett = 0\r\n",
    "    while value >= 1:\r\n",
    "        ett += 1\r\n",
    "        value -= 1\r\n",
    "    if ett > 0:\r\n",
    "        print(f\"{ett}st 1-krona\")\r\n",
    "        \r\n",
    "change(5289)"
   ],
   "outputs": [
    {
     "output_type": "stream",
     "name": "stdout",
     "text": [
      "5st 1000-lapp\n",
      "1st 200-lapp\n",
      "1st 50-lapp\n",
      "1st 20-lapp\n",
      "1st 10-krona\n",
      "1st 5-krona\n",
      "2st 2-krona\n"
     ]
    }
   ],
   "metadata": {}
  }
 ],
 "metadata": {
  "orig_nbformat": 4,
  "language_info": {
   "name": "python",
   "version": "3.9.6",
   "mimetype": "text/x-python",
   "codemirror_mode": {
    "name": "ipython",
    "version": 3
   },
   "pygments_lexer": "ipython3",
   "nbconvert_exporter": "python",
   "file_extension": ".py"
  },
  "kernelspec": {
   "name": "python3",
   "display_name": "Python 3.9.6 64-bit ('portfolio-CHRISTOPHER-SEANDER-lOS1B_SO': pipenv)"
  },
  "interpreter": {
   "hash": "8f88897ffdbbb96e3d8311f44c34c21629e8ca4e17fed34549530a72a7767cfe"
  }
 },
 "nbformat": 4,
 "nbformat_minor": 2
}