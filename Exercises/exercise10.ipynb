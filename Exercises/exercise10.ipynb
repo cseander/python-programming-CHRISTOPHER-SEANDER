{
 "cells": [
  {
   "cell_type": "markdown",
   "source": [
    "# Exercise 10\r\n",
    "## 1 Unit conversion"
   ],
   "metadata": {}
  },
  {
   "cell_type": "code",
   "execution_count": 33,
   "source": [
    "class UnitConversion:\r\n",
    "    def __init__(self, value: float):\r\n",
    "        self.value = value\r\n",
    "\r\n",
    "    @property\r\n",
    "    def value(self) -> float:\r\n",
    "        return self._value\r\n",
    "\r\n",
    "    @value.setter\r\n",
    "    def value(self, value: float):\r\n",
    "        if not isinstance(value, (float, int)):\r\n",
    "            raise TypeError(\"Value has to be a float or int\")\r\n",
    "            \r\n",
    "        if value <= 0:\r\n",
    "            raise ValueError(\"Value has to be larger than 0\")\r\n",
    "\r\n",
    "        self._value = value\r\n",
    "\r\n",
    "    def inch_to_cm(self) -> str:\r\n",
    "        return f\"{self.value} inches is {self.value * 2.54} cm\"\r\n",
    "\r\n",
    "    def foot_to_meters(self) -> str:\r\n",
    "        return f\"{self.value} foot is {self.value * 0.3048} meters\"\r\n",
    "\r\n",
    "    def pound_to_kg(self) -> str:\r\n",
    "        return f\"{self.value} pound is {self.value * 0.45359237} kg\"\r\n",
    "\r\n",
    "    def __repr__(self) -> str:\r\n",
    "        return f\"UnitConversion(value={self.value})\"\r\n",
    "\r\n",
    "# trying all methods\r\n",
    "value1 = UnitConversion(25.0)\r\n",
    "value1.value = 125\r\n",
    "print(value1.inch_to_cm())\r\n",
    "print(value1.foot_to_meters())\r\n",
    "print(value1.pound_to_kg())\r\n",
    "print(value1)\r\n",
    "\r\n",
    "# trying string instead of float or int\r\n",
    "try:\r\n",
    "    value2 = UnitConversion(\"25\")\r\n",
    "except ValueError as err:\r\n",
    "    print(err)\r\n",
    "except TypeError as err:\r\n",
    "    print(err)\r\n",
    "\r\n",
    "# trying negative value\r\n",
    "try:\r\n",
    "    value3 = UnitConversion(-256)\r\n",
    "except ValueError as err:\r\n",
    "    print(err)\r\n",
    "except TypeError as err:\r\n",
    "    print(err)"
   ],
   "outputs": [
    {
     "output_type": "stream",
     "name": "stdout",
     "text": [
      "125 inches is 317.5 cm\n",
      "125 foot is 38.1 meters\n",
      "125 pound is 56.69904625 kg\n",
      "UnitConversion(value=125)\n",
      "Value has to be a float or int\n",
      "Value has to be larger than 0\n"
     ]
    }
   ],
   "metadata": {}
  },
  {
   "cell_type": "markdown",
   "source": [
    "## 2 Person"
   ],
   "metadata": {}
  },
  {
   "cell_type": "code",
   "execution_count": 34,
   "source": [
    "class Person:\r\n",
    "    def __init__(self, name: str, age: int, email: str) -> None:\r\n",
    "        self.name = name\r\n",
    "        self.age = age\r\n",
    "        self.email = email\r\n",
    "        \r\n",
    "    @property\r\n",
    "    def name(self) -> str:\r\n",
    "        return self._name\r\n",
    "\r\n",
    "    @name.setter\r\n",
    "    def name(self, name):\r\n",
    "        if not isinstance(name, str):\r\n",
    "            raise TypeError(\"Name has to be a string\")\r\n",
    "        \r\n",
    "        self._name = name\r\n",
    "    \r\n",
    "    @property\r\n",
    "    def age(self) -> int:\r\n",
    "        return self._age\r\n",
    "    \r\n",
    "    @age.setter\r\n",
    "    def age(self, age: int):\r\n",
    "        if not isinstance(age, (int, float)):\r\n",
    "            raise TypeError(f\"Age has to be float or int, not {type(age)}\")\r\n",
    "        \r\n",
    "        if not (0 <= age < 125):\r\n",
    "            raise ValueError(f\"Age has to be between 0 and 125, not {age}\")\r\n",
    "        \r\n",
    "        self._age = age\r\n",
    "        \r\n",
    "    @property\r\n",
    "    def email(self) -> str:\r\n",
    "        return self._email\r\n",
    "    \r\n",
    "    @email.setter\r\n",
    "    def email(self, email: str):\r\n",
    "        if not \"@\" in email:\r\n",
    "            raise NameError(\"An email address has to contain @\")\r\n",
    "        \r\n",
    "        self._email = email\r\n",
    "        \r\n",
    "    def __repr__(self) -> str:\r\n",
    "        return f\"Person(name='{self.name}', age={self.age}, email='{self.email}'\"\r\n",
    "    \r\n",
    "    def say_hello(self) -> None:\r\n",
    "        print(f\"Hi, my name is {self.name}, I am {self.age} years old, my email address is {self.email}\")\r\n",
    "        \r\n",
    "person1 = Person(\"chris\", 29, \"christopher@gmail.com\")\r\n",
    "person1.say_hello()"
   ],
   "outputs": [
    {
     "output_type": "stream",
     "name": "stdout",
     "text": [
      "Hi, my name is chris, I am 29 years old, my email address is christopher@gmail.com\n"
     ]
    }
   ],
   "metadata": {}
  },
  {
   "cell_type": "markdown",
   "source": [
    "## 3 Student and Teacher"
   ],
   "metadata": {}
  },
  {
   "cell_type": "code",
   "execution_count": 35,
   "source": [
    "class Student(Person):\r\n",
    "    def study(self):\r\n",
    "        print(\"study...study...study...more study\")\r\n",
    "        \r\n",
    "    def say_hello(self):\r\n",
    "        print(f\"Hi, I am a student, my name is {self.name}, I am {self.age} years old, my email address is {self.email}\")\r\n",
    "        \r\n",
    "class Teacher(Person):\r\n",
    "    def teach(self):\r\n",
    "        print(\"teach...teach...teach...more teaching\")\r\n",
    "        \r\n",
    "teacher = Teacher(\"Philip\", 35, \"philip@gmail.com\")\r\n",
    "student = Student(\"Michael\", 25, \"michael@gmail.com\")\r\n",
    "teacher.teach()\r\n",
    "teacher.say_hello()\r\n",
    "student.study()\r\n",
    "student.say_hello()"
   ],
   "outputs": [
    {
     "output_type": "stream",
     "name": "stdout",
     "text": [
      "teach...teach...teach...more teaching\n",
      "Hi, my name is Philip, I am 35 years old, my email address is philip@gmail.com\n",
      "study...study...study...more study\n",
      "Hi, I am a student, my name is Michael, I am 25 years old, my email address is michael@gmail.com\n"
     ]
    }
   ],
   "metadata": {}
  },
  {
   "cell_type": "markdown",
   "source": [
    "## 4 Simple Travian"
   ],
   "metadata": {}
  },
  {
   "cell_type": "code",
   "execution_count": 36,
   "source": [
    "class Village:\r\n",
    "    def __init__(self) -> None:\r\n",
    "        self.crop = Field(500)\r\n",
    "        self.clay = Field(500)\r\n",
    "        self.lumber = Field(500)\r\n",
    "        self.iron = Field(500)\r\n",
    "        \r\n",
    "    def __repr__(self) -> str:\r\n",
    "        return f\"Stock: Lumber:{self.lumber}/800   Clay:{self.clay}/800   Iron:{self.iron}/800  Crop:{self.crop}/800\\nProduction:\\nLumber: {self.lumber.production} per hour\\nClay: {self.clay.production} per hour\\nIron: {self.iron.production} per hour\\nCrop: {self.crop.production} per hour\"\r\n",
    "        \r\n",
    "class Field:\r\n",
    "    def __init__(self, amount: int) -> None:\r\n",
    "        self.amount = amount\r\n",
    "        self.production = 4\r\n",
    "        \r\n",
    "    def __add__(self, new_amount: int) -> \"Field\":\r\n",
    "        if (self.amount + new_amount) <= 800:\r\n",
    "            return Field(self.amount + new_amount)\r\n",
    "        else:\r\n",
    "            return Field(800)\r\n",
    "    \r\n",
    "    def __sub__(self, new_amount: int)  -> \"Field\":\r\n",
    "        if (self.amount - new_amount) >= 0:\r\n",
    "            return Field(self.amount - new_amount)\r\n",
    "        else:\r\n",
    "            return Field(0)\r\n",
    "    \r\n",
    "    def __repr__(self) -> str:\r\n",
    "        return f\"{self.amount}\"\r\n",
    "\r\n",
    "vill = Village()\r\n",
    "vill.crop += 500\r\n",
    "vill.clay -= 25\r\n",
    "vill.lumber +=200\r\n",
    "print(vill)"
   ],
   "outputs": [
    {
     "output_type": "stream",
     "name": "stdout",
     "text": [
      "Stock: Lumber:700/800   Clay:475/800   Iron:500/800  Crop:800/800\n",
      "Production:\n",
      "Lumber: 4 per hour\n",
      "Clay: 4 per hour\n",
      "Iron: 4 per hour\n",
      "Crop: 4 per hour\n"
     ]
    }
   ],
   "metadata": {}
  }
 ],
 "metadata": {
  "orig_nbformat": 4,
  "language_info": {
   "name": "python",
   "version": "3.9.6",
   "mimetype": "text/x-python",
   "codemirror_mode": {
    "name": "ipython",
    "version": 3
   },
   "pygments_lexer": "ipython3",
   "nbconvert_exporter": "python",
   "file_extension": ".py"
  },
  "kernelspec": {
   "name": "python3",
   "display_name": "Python 3.9.6 64-bit ('portfolio-CHRISTOPHER-SEANDER-lOS1B_SO': pipenv)"
  },
  "interpreter": {
   "hash": "8f88897ffdbbb96e3d8311f44c34c21629e8ca4e17fed34549530a72a7767cfe"
  }
 },
 "nbformat": 4,
 "nbformat_minor": 2
}