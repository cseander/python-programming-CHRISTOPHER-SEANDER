{
 "cells": [
  {
   "cell_type": "markdown",
   "source": [
    "# Exercise 10\n",
    "## 1"
   ],
   "metadata": {}
  },
  {
   "cell_type": "code",
   "execution_count": 1,
   "source": [
    "class UnitConversion:\n",
    "    def __init__(self, value):\n",
    "        self.value = value\n",
    "\n",
    "    @property\n",
    "    def value(value) -> float:\n",
    "        return self._value\n",
    "\n",
    "    @value.setter\n",
    "    def value(self, value: float) -> None:\n",
    "        if value <= 0:\n",
    "            raise ValueError(\"Value has to be larger than 0\")\n",
    "\n",
    "        if not isinstance(value, float):\n",
    "            raise TypeError(\"Value has to be a float\")\n",
    "\n",
    "        self._value = value\n",
    "\n",
    "    def inch_to_cm(self) ->:\n",
    "        return self.value * 2.54\n",
    "\n",
    "    def foot_to_meters(self):\n",
    "        return self.value * 0.3048\n",
    "\n",
    "    def pound_to_kg(self):\n",
    "        return self.value * 0.45359237\n",
    "\n",
    "    def __repr__(self):\n",
    "\n",
    "    "
   ],
   "outputs": [],
   "metadata": {}
  }
 ],
 "metadata": {
  "orig_nbformat": 4,
  "language_info": {
   "name": "python",
   "version": "3.9.6",
   "mimetype": "text/x-python",
   "codemirror_mode": {
    "name": "ipython",
    "version": 3
   },
   "pygments_lexer": "ipython3",
   "nbconvert_exporter": "python",
   "file_extension": ".py"
  },
  "kernelspec": {
   "name": "python3",
   "display_name": "Python 3.9.6 64-bit ('python_programmering': conda)"
  },
  "interpreter": {
   "hash": "542aaf68b55b5c6f19ca97c058242afc248072e97d95b107dab6986e9412abbe"
  }
 },
 "nbformat": 4,
 "nbformat_minor": 2
}