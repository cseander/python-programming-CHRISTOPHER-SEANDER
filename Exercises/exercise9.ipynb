{
 "cells": [
  {
   "cell_type": "markdown",
   "source": [
    "# 1"
   ],
   "metadata": {}
  },
  {
   "cell_type": "code",
   "execution_count": 7,
   "source": [
    "program = {\r\n",
    "    \"Databaser\": 25,\r\n",
    "    \"Databehandling\": 25,\r\n",
    "    \"Djup Maskininlärning\": 40,\r\n",
    "    \"Examensarbete\": 15,\r\n",
    "    \"Introduktionskurs till AI\": 5,\r\n",
    "    \"LIA 1\": 40,\r\n",
    "    \"LIA 2\": 70,\r\n",
    "    \"Maskininlärning\": 45,\r\n",
    "    \"Praktisk maskininlärning och projektmetodik\": 45,\r\n",
    "    \"Programmering med Python\": 40,\r\n",
    "    \"Praktisk maskininlärning och projektmetodik\": 45,\r\n",
    "    \"Statistiska metoder\": 30,\r\n",
    "    \"Visualisering, presentationer och storytelling\": 20\r\n",
    "}\r\n",
    "\r\n",
    "total_points = 0\r\n",
    "for course in program:\r\n",
    "    total_points += program[course]\r\n",
    "    \r\n",
    "print(f\"Total points: {total_points}\")"
   ],
   "outputs": [
    {
     "output_type": "stream",
     "name": "stdout",
     "text": [
      "Total points: 400\n"
     ]
    }
   ],
   "metadata": {}
  },
  {
   "cell_type": "markdown",
   "source": [
    "# 2"
   ],
   "metadata": {}
  },
  {
   "cell_type": "code",
   "execution_count": 29,
   "source": [
    "import random as rnd\r\n",
    "\r\n",
    "dice_rolls = {roll: 0 for roll in range(1,7)}\r\n",
    "\r\n",
    "for _ in range(1000000):\r\n",
    "    dice_rolls[rnd.randint(1,6)] += 1\r\n",
    "    \r\n",
    "for roll in dice_rolls:\r\n",
    "    print(f\"{roll} rolled {dice_rolls[roll]} times\")"
   ],
   "outputs": [
    {
     "output_type": "stream",
     "name": "stdout",
     "text": [
      "1 rolled 166471 times\n",
      "2 rolled 166514 times\n",
      "3 rolled 166486 times\n",
      "4 rolled 166995 times\n",
      "5 rolled 166882 times\n",
      "6 rolled 166652 times\n"
     ]
    }
   ],
   "metadata": {}
  },
  {
   "cell_type": "markdown",
   "source": [
    "# 3"
   ],
   "metadata": {}
  },
  {
   "cell_type": "code",
   "execution_count": 110,
   "source": [
    "path = \"files/pokemon_list.txt\"\r\n",
    "\r\n",
    "with open(path, \"r\") as f_pokemon:\r\n",
    "    pokedex = {pokemon.split(\" \")[1] : pokemon.split(\" \")[2].strip(\"\\n\") + \", \" + pokemon.split(\" \")[0] for pokemon in f_pokemon.readlines()}\r\n",
    "\r\n",
    "print(pokedex[\"Gengar\"])\r\n",
    "print(pokedex[\"Pikachu\"])"
   ],
   "outputs": [
    {
     "output_type": "stream",
     "name": "stdout",
     "text": [
      "SpÃ¶ke/Gift, 94\n",
      "Elektrisk, 25\n"
     ]
    }
   ],
   "metadata": {}
  },
  {
   "cell_type": "markdown",
   "source": [
    "# 4"
   ],
   "metadata": {}
  },
  {
   "cell_type": "code",
   "execution_count": 124,
   "source": [
    "path = \"files/morse.txt\"\r\n",
    "\r\n",
    "with open(path, \"r\") as f_morse:\r\n",
    "    code = {code.split(\" \")[0][:1] : code.strip(\"\\n\").split(\" \")[1] for code in f_morse.readlines()}\r\n",
    "\r\n",
    "def morse(message):\r\n",
    "    new_message = \"\"\r\n",
    "    for c in message:\r\n",
    "        new_message += code[c]\r\n",
    "    return new_message\r\n",
    "\r\n",
    "print(morse(\"SOS\"))\r\n",
    "print(morse(\"POKEMON\"))"
   ],
   "outputs": [
    {
     "output_type": "stream",
     "name": "stdout",
     "text": [
      "...---...\n",
      ".------.-.------.\n"
     ]
    }
   ],
   "metadata": {}
  }
 ],
 "metadata": {
  "orig_nbformat": 4,
  "language_info": {
   "name": "python",
   "version": "3.9.6",
   "mimetype": "text/x-python",
   "codemirror_mode": {
    "name": "ipython",
    "version": 3
   },
   "pygments_lexer": "ipython3",
   "nbconvert_exporter": "python",
   "file_extension": ".py"
  },
  "kernelspec": {
   "name": "python3",
   "display_name": "Python 3.9.6 64-bit ('portfolio-CHRISTOPHER-SEANDER-lOS1B_SO': pipenv)"
  },
  "interpreter": {
   "hash": "8f88897ffdbbb96e3d8311f44c34c21629e8ca4e17fed34549530a72a7767cfe"
  }
 },
 "nbformat": 4,
 "nbformat_minor": 2
}