{
 "cells": [
  {
   "cell_type": "code",
   "execution_count": 8,
   "source": [
    "number_input = input()\n",
    "\n",
    "if int(number_input) == 0:\n",
    "    print(\"Number is 0\")\n",
    "    exit\n",
    "elif int(number_input) > 0:\n",
    "    print(\"Number is positive\")\n",
    "else:\n",
    "    print(\"Number is negative\")"
   ],
   "outputs": [
    {
     "output_type": "stream",
     "name": "stdout",
     "text": [
      "Number is positive\n"
     ]
    }
   ],
   "metadata": {}
  },
  {
   "cell_type": "code",
   "execution_count": 9,
   "source": [
    "number_input1 = input()\n",
    "number_input2 = input()\n",
    "\n",
    "if int(number_input1) > int(number_input2):\n",
    "    print(number_input2)\n",
    "else:\n",
    "    print(number_input1)\n",
    "\n"
   ],
   "outputs": [
    {
     "output_type": "stream",
     "name": "stdout",
     "text": [
      "5\n"
     ]
    }
   ],
   "metadata": {}
  },
  {
   "cell_type": "code",
   "execution_count": 17,
   "source": [
    "angles = []\n",
    "\n",
    "for i in range(3):\n",
    "    angles.append(input())\n",
    "\n",
    "if float(angles[0]) + float(angles[1]) + float(angles[2]) != 180.0:\n",
    "    print(\"This is not a correct triangle, the sum of the angles has to be 180 degrees.\")\n",
    "\n",
    "for x in range(3):\n",
    "    if float(angles[x]) == 90.0:\n",
    "        print(\"The triangle has a right angle!2\")\n"
   ],
   "outputs": [],
   "metadata": {}
  },
  {
   "cell_type": "code",
   "execution_count": 24,
   "source": [
    "age = input(\"Age? \")\n",
    "weight = input(\"Weight? \")\n",
    "\n",
    "if int(age) > 11 and int(weight) > 39:\n",
    "    print(\"1-2 pills\")\n",
    "elif (int(age) > 1 and int(age) <= 7) and (int(weight) >= 15 and int(weight) < 26):\n",
    "    print(\"1/2 pill\")\n",
    "elif (int(age) >= 7 and int(age) <= 12) and (int(weight) > 25 and int(weight) < 41):\n",
    "    print(\"1/2 - 1 pills\")"
   ],
   "outputs": [
    {
     "output_type": "stream",
     "name": "stdout",
     "text": [
      "1/2 - 1 pills\n"
     ]
    }
   ],
   "metadata": {}
  },
  {
   "cell_type": "code",
   "execution_count": 30,
   "source": [
    "number = input()\n",
    "\n",
    "if int(number) % 2 == 0:\n",
    "    print(\"Number is even\")\n",
    "else:\n",
    "    print(\"Number is odd\")\n",
    "\n",
    "if int(number) % 5 == 0:\n",
    "    print(\"Number is divisible by 5\")\n",
    "\n",
    "if (int(number) % 5 == 0) and (int(number) % 2 != 0):\n",
    "    print(\"Number is divisible by 5 and odd\")"
   ],
   "outputs": [
    {
     "output_type": "stream",
     "name": "stdout",
     "text": [
      "Number is even\n",
      "Number is divisible by 5\n"
     ]
    }
   ],
   "metadata": {}
  },
  {
   "cell_type": "code",
   "execution_count": 34,
   "source": [
    "weight = input()\n",
    "dimensions = []\n",
    "question = [\"Length?\", \"Width?\", \"Height?\"]\n",
    " \n",
    "for i in range(3):\n",
    "    dimensions.append(input(question[i]))\n",
    "\n",
    "if int(weight) > 8 or int(dimensions[0]) > 55 or int(dimensions[1]) > 40 or int(dimensions[2]) > 23:\n",
    "    print(\"Your bag is not allowed!\")\n",
    "else:\n",
    "    print(\"Your bag is OK!\")"
   ],
   "outputs": [
    {
     "output_type": "stream",
     "name": "stdout",
     "text": [
      "Your bag is not allowed!\n"
     ]
    }
   ],
   "metadata": {}
  }
 ],
 "metadata": {
  "orig_nbformat": 4,
  "language_info": {
   "name": "python",
   "version": "3.9.6",
   "mimetype": "text/x-python",
   "codemirror_mode": {
    "name": "ipython",
    "version": 3
   },
   "pygments_lexer": "ipython3",
   "nbconvert_exporter": "python",
   "file_extension": ".py"
  },
  "kernelspec": {
   "name": "python3",
   "display_name": "Python 3.9.6 64-bit ('python_programmering': conda)"
  },
  "interpreter": {
   "hash": "542aaf68b55b5c6f19ca97c058242afc248072e97d95b107dab6986e9412abbe"
  }
 },
 "nbformat": 4,
 "nbformat_minor": 2
}