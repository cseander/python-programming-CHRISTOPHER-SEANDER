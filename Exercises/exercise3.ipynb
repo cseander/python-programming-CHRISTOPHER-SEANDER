{
 "cells": [
  {
   "cell_type": "markdown",
   "source": [
    "# 1 \n",
    "a)"
   ],
   "metadata": {}
  },
  {
   "cell_type": "code",
   "execution_count": 6,
   "source": [
    "for i in range(-10, 11):\n",
    "    print(i, end = \", \")"
   ],
   "outputs": [
    {
     "output_type": "stream",
     "name": "stdout",
     "text": [
      "-10, -9, -8, -7, -6, -5, -4, -3, -2, -1, 0, 1, 2, 3, 4, 5, 6, 7, 8, 9, 10, "
     ]
    }
   ],
   "metadata": {}
  },
  {
   "cell_type": "markdown",
   "source": [
    "b)"
   ],
   "metadata": {}
  },
  {
   "cell_type": "code",
   "execution_count": 7,
   "source": [
    "for i in range(-10, 12, 2):\n",
    "    print(i, end = \", \")"
   ],
   "outputs": [
    {
     "output_type": "stream",
     "name": "stdout",
     "text": [
      "-10, -8, -6, -4, -2, 0, 2, 4, 6, 8, 10, "
     ]
    }
   ],
   "metadata": {}
  },
  {
   "cell_type": "markdown",
   "source": [
    "# 2\n",
    "a)"
   ],
   "metadata": {}
  },
  {
   "cell_type": "code",
   "execution_count": 8,
   "source": [
    "sum = 0\n",
    "for i in range(101):\n",
    "    sum += i\n",
    "print(sum)"
   ],
   "outputs": [
    {
     "output_type": "stream",
     "name": "stdout",
     "text": [
      "5050\n"
     ]
    }
   ],
   "metadata": {}
  },
  {
   "cell_type": "markdown",
   "source": [
    "b)"
   ],
   "metadata": {}
  },
  {
   "cell_type": "code",
   "execution_count": 12,
   "source": [
    "sum = 0\n",
    "for i in range(1, 100, 2):\n",
    "    sum += i\n",
    "print(sum)"
   ],
   "outputs": [
    {
     "output_type": "stream",
     "name": "stdout",
     "text": [
      "2500\n"
     ]
    }
   ],
   "metadata": {}
  },
  {
   "cell_type": "markdown",
   "source": [
    "# 3\n",
    "a)"
   ],
   "metadata": {}
  },
  {
   "cell_type": "code",
   "execution_count": 14,
   "source": [
    "for i in range(11):\n",
    "    print(f\"6 times {i} is {i * 6}\")"
   ],
   "outputs": [
    {
     "output_type": "stream",
     "name": "stdout",
     "text": [
      "6 times 0 is 0\n",
      "6 times 1 is 6\n",
      "6 times 2 is 12\n",
      "6 times 3 is 18\n",
      "6 times 4 is 24\n",
      "6 times 5 is 30\n",
      "6 times 6 is 36\n",
      "6 times 7 is 42\n",
      "6 times 8 is 48\n",
      "6 times 9 is 54\n",
      "6 times 10 is 60\n"
     ]
    }
   ],
   "metadata": {}
  },
  {
   "cell_type": "markdown",
   "source": [
    "b)"
   ],
   "metadata": {}
  },
  {
   "cell_type": "code",
   "execution_count": 17,
   "source": [
    "table, start, end = input(\"Table: \"), input(\"Start: \"), input(\"End: \")\n",
    "\n",
    "for i in range(int(start), int(end) + 1):\n",
    "    print(int(table) * i, end = \" \")"
   ],
   "outputs": [
    {
     "output_type": "stream",
     "name": "stdout",
     "text": [
      "10 15 20 25 30 35 40 "
     ]
    }
   ],
   "metadata": {}
  },
  {
   "cell_type": "markdown",
   "source": [
    "c)"
   ],
   "metadata": {}
  },
  {
   "cell_type": "code",
   "execution_count": 29,
   "source": [
    "for i in range(11):\n",
    "    for n in range(11):\n",
    "        if n < 10:\n",
    "            if i * n < 10:\n",
    "                print(f\" {i * n}\", end = \"  \")\n",
    "            else:\n",
    "                print(i * n, end = \"  \")\n",
    "        else:\n",
    "            if i * n < 10:\n",
    "                print(f\"  {i * n}\")\n",
    "            elif i * n < 100:\n",
    "                print(f\" {i * n}\")\n",
    "            else:\n",
    "                print(i * n)"
   ],
   "outputs": [
    {
     "output_type": "stream",
     "name": "stdout",
     "text": [
      " 0   0   0   0   0   0   0   0   0   0    0\n",
      " 0   1   2   3   4   5   6   7   8   9   10\n",
      " 0   2   4   6   8  10  12  14  16  18   20\n",
      " 0   3   6   9  12  15  18  21  24  27   30\n",
      " 0   4   8  12  16  20  24  28  32  36   40\n",
      " 0   5  10  15  20  25  30  35  40  45   50\n",
      " 0   6  12  18  24  30  36  42  48  54   60\n",
      " 0   7  14  21  28  35  42  49  56  63   70\n",
      " 0   8  16  24  32  40  48  56  64  72   80\n",
      " 0   9  18  27  36  45  54  63  72  81   90\n",
      " 0  10  20  30  40  50  60  70  80  90  100\n"
     ]
    }
   ],
   "metadata": {}
  },
  {
   "cell_type": "markdown",
   "source": [
    "# 4"
   ],
   "metadata": {}
  },
  {
   "cell_type": "code",
   "execution_count": 32,
   "source": [
    "n, sum = input(\"Choose a value for n: \"), 1\n",
    "\n",
    "for i in range(1, int(n) + 1):\n",
    "    sum *= i\n",
    "print(sum)"
   ],
   "outputs": [
    {
     "output_type": "stream",
     "name": "stdout",
     "text": [
      "40320\n"
     ]
    }
   ],
   "metadata": {}
  },
  {
   "cell_type": "markdown",
   "source": [
    "# 5"
   ],
   "metadata": {}
  },
  {
   "cell_type": "code",
   "execution_count": 38,
   "source": [
    "import random\n",
    "four_digit_number = random.randint(1000, 9999)\n",
    "\n",
    "for i in range(1000, 10000):\n",
    "    if i == four_digit_number:\n",
    "        print(f\"Final guess: {i}\")\n",
    "        break\n",
    "\n",
    "print(f\"Random number was: {four_digit_number}\")\n"
   ],
   "outputs": [
    {
     "output_type": "stream",
     "name": "stdout",
     "text": [
      "Final guess: 4948\n",
      "Random number was: 4948\n"
     ]
    }
   ],
   "metadata": {}
  },
  {
   "cell_type": "markdown",
   "source": [
    "# 6"
   ],
   "metadata": {}
  },
  {
   "cell_type": "code",
   "execution_count": 54,
   "source": [
    "sum = 0\n",
    "for rice in range(64):\n",
    "    sum += 2 ** rice\n",
    "print(f\"The total amount of rice grains is: {sum}\")"
   ],
   "outputs": [
    {
     "output_type": "stream",
     "name": "stdout",
     "text": [
      "The total amount of rice grains is: 18446744073709551615\n"
     ]
    }
   ],
   "metadata": {}
  }
 ],
 "metadata": {
  "orig_nbformat": 4,
  "language_info": {
   "name": "python",
   "version": "3.9.6",
   "mimetype": "text/x-python",
   "codemirror_mode": {
    "name": "ipython",
    "version": 3
   },
   "pygments_lexer": "ipython3",
   "nbconvert_exporter": "python",
   "file_extension": ".py"
  },
  "kernelspec": {
   "name": "python3",
   "display_name": "Python 3.9.6 64-bit ('python_programmering': conda)"
  },
  "interpreter": {
   "hash": "542aaf68b55b5c6f19ca97c058242afc248072e97d95b107dab6986e9412abbe"
  }
 },
 "nbformat": 4,
 "nbformat_minor": 2
}