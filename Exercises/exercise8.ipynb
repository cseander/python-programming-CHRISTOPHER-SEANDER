{
 "cells": [
  {
   "cell_type": "markdown",
   "source": [
    "# 1"
   ],
   "metadata": {}
  },
  {
   "cell_type": "code",
   "execution_count": 112,
   "source": [
    "import random as rnd\n",
    "path = \"files/dice_rolls.txt\"\n",
    "with open(path, \"w\") as dice_file:\n",
    "    dice_rolls = [rnd.randint(1,6) for i in range(20)]\n",
    "    dice_file.write(\"20 simulated dice rolls: \\n[ \")\n",
    "    for roll in dice_rolls:\n",
    "        dice_file.write(f\"{str(roll)} \")\n",
    "    dice_file.write(\"]\\n\\n\")\n",
    "\n",
    "    dice_rolls.sort()\n",
    "    dice_file.write(\"Sorted dice rolls: \\n[ \")\n",
    "    for roll in dice_rolls:\n",
    "        dice_file.write(f\"{str(roll)} \")\n",
    "    dice_file.write(\"]\\n\\n\")\n",
    "\n",
    "    number_of_fours = dice_rolls.count(4)\n",
    "    dice_file.write(f\"Number of fours: {number_of_fours}\")"
   ],
   "outputs": [],
   "metadata": {}
  },
  {
   "cell_type": "markdown",
   "source": [
    "# 2"
   ],
   "metadata": {}
  },
  {
   "cell_type": "code",
   "execution_count": 125,
   "source": [
    "path = \"files/test_result.txt\"\n",
    "\n",
    "with open(path, \"r\") as test_result_file_read, open(path, \"a\") as test_result_file_append:\n",
    "    #print(test_result_file_read.readlines())\n",
    "    results = [result.strip(\"\\n\") for result in test_result_file_read.readlines()]\n",
    "    results.sort()\n",
    "\n",
    "    test_result_file_append.write(\"\\n\\nSorted by first name:\\n\")\n",
    "    for result in results:\n",
    "        test_result_file_append.write(f\"{result}\\n\")\n",
    "\n",
    "    test_result_file_append.write(\"\\n\\nSorted Results:\\nGrade F:\\n\")\n",
    "    for item in results:\n",
    "        if int(item[-2:]) < 20:\n",
    "            test_result_file_append.write(f\"{item}\\n\")\n",
    "    \n",
    "    test_result_file_append.write(\"Grade E:\\n\")\n",
    "    for item in results:\n",
    "        if int(item[-2:]) >= 20 and int(item[-2:]) < 30:\n",
    "            test_result_file_append.write(f\"{item}\\n\")\n",
    "    \n",
    "    test_result_file_append.write(\"Grade D:\\n\")\n",
    "    for item in results:\n",
    "        if int(item[-2:]) >= 30 and int(item[-2:]) < 40:\n",
    "            test_result_file_append.write(f\"{item}\\n\")\n",
    "\n",
    "    test_result_file_append.write(\"Grade C:\\n\")\n",
    "    for item in results:\n",
    "        if int(item[-2:]) >= 40 and int(item[-2:]) < 50:\n",
    "            test_result_file_append.write(f\"{item}\\n\")\n",
    "\n",
    "    test_result_file_append.write(\"Grade B:\\n\")\n",
    "    for item in results:\n",
    "        if int(item[-2:]) >= 50 and int(item[-2:]) < 60:\n",
    "            test_result_file_append.write(f\"{item}\\n\")\n",
    "\n",
    "    \n",
    "    test_result_file_append.write(\"Grade A:\\n\")\n",
    "    for item in results:\n",
    "        if int(item[-2:]) > 59:\n",
    "            test_result_file_append.write(f\"{item}\\n\")"
   ],
   "outputs": [],
   "metadata": {}
  },
  {
   "cell_type": "markdown",
   "source": [
    "# 3"
   ],
   "metadata": {}
  },
  {
   "cell_type": "code",
   "execution_count": 170,
   "source": [
    "import matplotlib.pyplot as plt\n",
    "\n",
    "with open(\"files/NPvt19Ma2A.txt\", \"r\") as file_2a, open(\"files/NPvt19Ma2C.txt\", \"r\") as file_2c:\n",
    "    twoA = [percent[1] for percent in (result.strip(\"%\\n\").split(\" \") for result in file_2a.readlines())]\n",
    "    twoC = [percent[1] for percent in (result.strip(\"% \\n\").split(\" \") for result in file_2c.readlines())]\n",
    "    labels = [\"A\", \"B\", \"C\", \"D\", \"E\", \"F\"]\n",
    "    print(twoC)\n",
    "\n",
    "    plt.subplot(1, 2, 1)\n",
    "    plt.title(\"NP Ma2A\")\n",
    "    plt.pie(twoA, labels=labels)\n",
    "\n",
    "    plt.subplot(1, 2, 2)\n",
    "    plt.title(\"NP Ma2C\")\n",
    "    plt.pie(twoC, labels=labels)\n",
    "\n",
    "    plt.show()"
   ],
   "outputs": [
    {
     "output_type": "stream",
     "name": "stdout",
     "text": [
      "['8.4', '14.2', '26.9', '16.6', '21.3', '12.6']\n"
     ]
    },
    {
     "output_type": "display_data",
     "data": {
      "text/plain": [
       "<Figure size 432x288 with 2 Axes>"
      ],
      "image/png": "[encoded data removed]"
     },
     "metadata": {}
    }
   ],
   "metadata": {}
  }
 ],
 "metadata": {
  "orig_nbformat": 4,
  "language_info": {
   "name": "python",
   "version": "3.9.6",
   "mimetype": "text/x-python",
   "codemirror_mode": {
    "name": "ipython",
    "version": 3
   },
   "pygments_lexer": "ipython3",
   "nbconvert_exporter": "python",
   "file_extension": ".py"
  },
  "kernelspec": {
   "name": "python3",
   "display_name": "Python 3.9.6 64-bit ('python_programmering': conda)"
  },
  "interpreter": {
   "hash": "542aaf68b55b5c6f19ca97c058242afc248072e97d95b107dab6986e9412abbe"
  }
 },
 "nbformat": 4,
 "nbformat_minor": 2
}