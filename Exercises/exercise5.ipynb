{
 "cells": [
  {
   "cell_type": "markdown",
   "source": [
    "# 1"
   ],
   "metadata": {}
  },
  {
   "cell_type": "code",
   "execution_count": 70,
   "source": [
    "user_input = input()\r\n",
    "lenght_of_word = len(user_input)\r\n",
    "print(f\"Number of letters in word: {lenght_of_word}\")\r\n",
    "\r\n",
    "def count_uppercase(word):\r\n",
    "    count = 0\r\n",
    "    for letter in user_input:\r\n",
    "        if letter.isupper():\r\n",
    "            count += 1\r\n",
    "    return count\r\n",
    "\r\n",
    "uppercase = count_uppercase(user_input)\r\n",
    "lowercase = lenght_of_word - uppercase\r\n",
    "\r\n",
    "print(f\"Uppercase: {uppercase}, Lowercase: {lowercase}\")"
   ],
   "outputs": [
    {
     "output_type": "stream",
     "name": "stdout",
     "text": [
      "Number of letters in word: 0\n",
      "Uppercase: 0, Lowercase: 0\n"
     ]
    }
   ],
   "metadata": {}
  },
  {
   "cell_type": "markdown",
   "source": [
    "# 2"
   ],
   "metadata": {}
  },
  {
   "cell_type": "code",
   "execution_count": 71,
   "source": [
    "sentence = \"A picture says more than a thousand words, a matematical formula says more than a thousand pictures.\"\r\n",
    "\r\n",
    "words = 0\r\n",
    "for char in sentence:\r\n",
    "    if char == \" \" or char == \".\":\r\n",
    "        words += 1\r\n",
    "        \r\n",
    "print(f\"Number of words: {words}\")"
   ],
   "outputs": [
    {
     "output_type": "stream",
     "name": "stdout",
     "text": [
      "Number of words: 17\n"
     ]
    }
   ],
   "metadata": {}
  },
  {
   "cell_type": "markdown",
   "source": [
    "# 3"
   ],
   "metadata": {}
  },
  {
   "cell_type": "code",
   "execution_count": 72,
   "source": [
    "user_input = input().replace(\" \", \"\").lower()\r\n",
    "reversed = user_input[::-1]\r\n",
    "\r\n",
    "if user_input == reversed:\r\n",
    "    print(f\"The word is a palindrome\")\r\n",
    "else:\r\n",
    "    print(f\"The word is NOT a palindrome\")"
   ],
   "outputs": [
    {
     "output_type": "stream",
     "name": "stdout",
     "text": [
      "The word is a palindrome\n"
     ]
    }
   ],
   "metadata": {}
  },
  {
   "cell_type": "markdown",
   "source": [
    "# 4"
   ],
   "metadata": {}
  },
  {
   "cell_type": "code",
   "execution_count": 73,
   "source": [
    "vowels = set(\"aeiouy\")\r\n",
    "sentence = \"Pure mathematics is, in its way, the poetry of logical ideas\"\r\n",
    "\r\n",
    "number_of_vowels = 0\r\n",
    "for letter in sentence.lower():\r\n",
    "    if letter in vowels:\r\n",
    "        number_of_vowels += 1\r\n",
    "        \r\n",
    "print(f\"Number of vowels: {number_of_vowels}\")"
   ],
   "outputs": [
    {
     "output_type": "stream",
     "name": "stdout",
     "text": [
      "Number of vowels: 22\n"
     ]
    }
   ],
   "metadata": {}
  },
  {
   "cell_type": "markdown",
   "source": [
    "# 5"
   ],
   "metadata": {}
  },
  {
   "cell_type": "code",
   "execution_count": 74,
   "source": [
    "user_string = input()\r\n",
    "\r\n",
    "def encrypt(user_input):\r\n",
    "    encrypted_string = \"\"\r\n",
    "    for i in range(len(user_input)):\r\n",
    "        # lowercase\r\n",
    "        if ord(user_input[i]) > 96 and ord(user_input[i]) < 122:\r\n",
    "            encrypted_string += chr(ord(user_input[i]) + 1)\r\n",
    "        elif ord(user_input[i]) == 122:\r\n",
    "            encrypted_string += \"å\"\r\n",
    "        # uppercase\r\n",
    "        elif ord(user_input[i]) > 64 and ord(user_input[i]) < 90:\r\n",
    "            encrypted_string += chr(ord(user_input[i]) + 1)\r\n",
    "        elif ord(user_input[i]) == 90:\r\n",
    "            encrypted_string += \"Å\"\r\n",
    "        # åäö\r\n",
    "        elif ord(user_input[i]) == 229:\r\n",
    "            encrypted_string += \"ä\"\r\n",
    "        elif ord(user_input[i]) == 228:\r\n",
    "            encrypted_string += \"ö\"\r\n",
    "        elif ord(user_input[i]) == 246:\r\n",
    "            encrypted_string += \"a\"\r\n",
    "        # ÅÄÖ\r\n",
    "        elif ord(user_input[i]) == 197:\r\n",
    "            encrypted_string += \"Ä\"\r\n",
    "        elif ord(user_input[i]) == 196:\r\n",
    "            encrypted_string += \"Ö\"\r\n",
    "        elif ord(user_input[i]) == 214:\r\n",
    "            encrypted_string += \"A\"\r\n",
    "        # all other signs or spaces\r\n",
    "        else:\r\n",
    "            encrypted_string += user_input[i]\r\n",
    "    return encrypted_string\r\n",
    "\r\n",
    "def decrypt(user_input):\r\n",
    "    decrypted_string = \"\"\r\n",
    "    for i in range(len(user_input)):\r\n",
    "        # lowercase\r\n",
    "        if ord(user_input[i]) > 97 and ord(user_input[i]) < 123:\r\n",
    "            decrypted_string += chr(ord(user_input[i]) - 1)\r\n",
    "        elif ord(user_input[i]) == 97:\r\n",
    "            decrypted_string += \"ö\"\r\n",
    "        # uppercase\r\n",
    "        elif ord(user_input[i]) > 65 and ord(user_input[i]) < 91:\r\n",
    "            decrypted_string += chr(ord(user_input[i]) - 1)\r\n",
    "        elif ord(user_input[i]) == 65:\r\n",
    "            decrypted_string += \"Ö\"\r\n",
    "        # åäö\r\n",
    "        elif ord(user_input[i]) == 229:\r\n",
    "            decrypted_string += \"z\"\r\n",
    "        elif ord(user_input[i]) == 228:\r\n",
    "            decrypted_string += \"å\"\r\n",
    "        elif ord(user_input[i]) == 246:\r\n",
    "            decrypted_string += \"ä\"\r\n",
    "        # ÅÄÖ\r\n",
    "        elif ord(user_input[i]) == 197:\r\n",
    "            decrypted_string += \"Z\"\r\n",
    "        elif ord(user_input[i]) == 196:\r\n",
    "            decrypted_string += \"Å\"\r\n",
    "        elif ord(user_input[i]) == 214:\r\n",
    "            decrypted_string += \"Ä\"\r\n",
    "        # all other signs or spaces\r\n",
    "        else:\r\n",
    "            decrypted_string += user_input[i]\r\n",
    "    return decrypted_string\r\n",
    "        \r\n",
    "\r\n",
    "# print(f\"Input word: {user_string}\")\r\n",
    "# encrypted_string = encrypt(user_string)\r\n",
    "# print(f\"Encrypted string: {encrypted_string}\")\r\n",
    "# decrypted_string = decrypt(encrypted_string)\r\n",
    "# print(f\"Decrypted string: {decrypted_string}\")\r\n",
    "\r\n",
    "choice = input(\"encrypt or decrypt? \")\r\n",
    "if choice.lower() == \"encrypt\":\r\n",
    "    print(encrypt(user_string))\r\n",
    "elif choice.lower() == \"decrypt\":\r\n",
    "    print(decrypt(user_string))"
   ],
   "outputs": [],
   "metadata": {}
  }
 ],
 "metadata": {
  "orig_nbformat": 4,
  "language_info": {
   "name": "python",
   "version": "3.9.6",
   "mimetype": "text/x-python",
   "codemirror_mode": {
    "name": "ipython",
    "version": 3
   },
   "pygments_lexer": "ipython3",
   "nbconvert_exporter": "python",
   "file_extension": ".py"
  },
  "kernelspec": {
   "name": "python3",
   "display_name": "Python 3.9.6 64-bit ('portfolio-CHRISTOPHER-SEANDER-lOS1B_SO': pipenv)"
  },
  "interpreter": {
   "hash": "8f88897ffdbbb96e3d8311f44c34c21629e8ca4e17fed34549530a72a7767cfe"
  }
 },
 "nbformat": 4,
 "nbformat_minor": 2
}