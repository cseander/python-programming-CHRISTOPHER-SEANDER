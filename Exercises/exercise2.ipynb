{
 "cells": [
  {
   "cell_type": "code",
   "execution_count": 1,
   "source": [
    "counter = -10\n",
    "\n",
    "while counter < 11:\n",
    "    print(counter)\n",
    "    counter += 1"
   ],
   "outputs": [
    {
     "output_type": "stream",
     "name": "stdout",
     "text": [
      "-10\n",
      "-9\n",
      "-8\n",
      "-7\n",
      "-6\n",
      "-5\n",
      "-4\n",
      "-3\n",
      "-2\n",
      "-1\n",
      "0\n",
      "1\n",
      "2\n",
      "3\n",
      "4\n",
      "5\n",
      "6\n",
      "7\n",
      "8\n",
      "9\n",
      "10\n"
     ]
    }
   ],
   "metadata": {}
  },
  {
   "cell_type": "code",
   "execution_count": 2,
   "source": [
    "counter1, counter2, sum1, sum2 = 0, 1, 0, 0\n",
    "\n",
    "while counter1 <= 100:\n",
    "    sum1 += counter1\n",
    "    counter1 += 1\n",
    "print(sum1)\n",
    "\n",
    "while counter2 < 100:\n",
    "    sum2 += counter2\n",
    "    counter2 += 2\n",
    "print(sum2)"
   ],
   "outputs": [
    {
     "output_type": "stream",
     "name": "stdout",
     "text": [
      "5050\n",
      "2500\n"
     ]
    }
   ],
   "metadata": {}
  },
  {
   "cell_type": "code",
   "execution_count": 2,
   "source": [
    "import random as rnd\n",
    "\n",
    "random_number = rnd.randint(1, 100)\n",
    "guess = 0\n",
    "number_of_guesses = 0\n",
    "\n",
    "while int(guess) != random_number:\n",
    "    guess = input(\"Guess: \")\n",
    "    number_of_guesses += 1\n",
    "    \n",
    "print(f\"Correct! the number was {random_number} and you guessed {number_of_guesses} times!\")"
   ],
   "outputs": [
    {
     "output_type": "stream",
     "name": "stdout",
     "text": [
      "4\n",
      "Correct! the number was 4 and you guessed 2 times!\n"
     ]
    }
   ],
   "metadata": {}
  },
  {
   "cell_type": "code",
   "execution_count": 3,
   "source": [
    "number = rnd.randint(1, 100)\n",
    "print(f\"The random number is {number}\")\n",
    "guess = 0\n",
    "number_of_guesses = 0\n",
    "\n",
    "while int(guess) != number:\n",
    "    number_of_guesses += 1\n",
    "    guess += 1\n",
    "    print(f\"Guessing {guess} and I have guessed {number_of_guesses} times\")\n",
    "\n",
    "print(\"Correct!\")\n"
   ],
   "outputs": [
    {
     "output_type": "stream",
     "name": "stdout",
     "text": [
      "The random number is 95\n",
      "Guessing 1 and I have guessed 1 times\n",
      "Guessing 2 and I have guessed 2 times\n",
      "Guessing 3 and I have guessed 3 times\n",
      "Guessing 4 and I have guessed 4 times\n",
      "Guessing 5 and I have guessed 5 times\n",
      "Guessing 6 and I have guessed 6 times\n",
      "Guessing 7 and I have guessed 7 times\n",
      "Guessing 8 and I have guessed 8 times\n",
      "Guessing 9 and I have guessed 9 times\n",
      "Guessing 10 and I have guessed 10 times\n",
      "Guessing 11 and I have guessed 11 times\n",
      "Guessing 12 and I have guessed 12 times\n",
      "Guessing 13 and I have guessed 13 times\n",
      "Guessing 14 and I have guessed 14 times\n",
      "Guessing 15 and I have guessed 15 times\n",
      "Guessing 16 and I have guessed 16 times\n",
      "Guessing 17 and I have guessed 17 times\n",
      "Guessing 18 and I have guessed 18 times\n",
      "Guessing 19 and I have guessed 19 times\n",
      "Guessing 20 and I have guessed 20 times\n",
      "Guessing 21 and I have guessed 21 times\n",
      "Guessing 22 and I have guessed 22 times\n",
      "Guessing 23 and I have guessed 23 times\n",
      "Guessing 24 and I have guessed 24 times\n",
      "Guessing 25 and I have guessed 25 times\n",
      "Guessing 26 and I have guessed 26 times\n",
      "Guessing 27 and I have guessed 27 times\n",
      "Guessing 28 and I have guessed 28 times\n",
      "Guessing 29 and I have guessed 29 times\n",
      "Guessing 30 and I have guessed 30 times\n",
      "Guessing 31 and I have guessed 31 times\n",
      "Guessing 32 and I have guessed 32 times\n",
      "Guessing 33 and I have guessed 33 times\n",
      "Guessing 34 and I have guessed 34 times\n",
      "Guessing 35 and I have guessed 35 times\n",
      "Guessing 36 and I have guessed 36 times\n",
      "Guessing 37 and I have guessed 37 times\n",
      "Guessing 38 and I have guessed 38 times\n",
      "Guessing 39 and I have guessed 39 times\n",
      "Guessing 40 and I have guessed 40 times\n",
      "Guessing 41 and I have guessed 41 times\n",
      "Guessing 42 and I have guessed 42 times\n",
      "Guessing 43 and I have guessed 43 times\n",
      "Guessing 44 and I have guessed 44 times\n",
      "Guessing 45 and I have guessed 45 times\n",
      "Guessing 46 and I have guessed 46 times\n",
      "Guessing 47 and I have guessed 47 times\n",
      "Guessing 48 and I have guessed 48 times\n",
      "Guessing 49 and I have guessed 49 times\n",
      "Guessing 50 and I have guessed 50 times\n",
      "Guessing 51 and I have guessed 51 times\n",
      "Guessing 52 and I have guessed 52 times\n",
      "Guessing 53 and I have guessed 53 times\n",
      "Guessing 54 and I have guessed 54 times\n",
      "Guessing 55 and I have guessed 55 times\n",
      "Guessing 56 and I have guessed 56 times\n",
      "Guessing 57 and I have guessed 57 times\n",
      "Guessing 58 and I have guessed 58 times\n",
      "Guessing 59 and I have guessed 59 times\n",
      "Guessing 60 and I have guessed 60 times\n",
      "Guessing 61 and I have guessed 61 times\n",
      "Guessing 62 and I have guessed 62 times\n",
      "Guessing 63 and I have guessed 63 times\n",
      "Guessing 64 and I have guessed 64 times\n",
      "Guessing 65 and I have guessed 65 times\n",
      "Guessing 66 and I have guessed 66 times\n",
      "Guessing 67 and I have guessed 67 times\n",
      "Guessing 68 and I have guessed 68 times\n",
      "Guessing 69 and I have guessed 69 times\n",
      "Guessing 70 and I have guessed 70 times\n",
      "Guessing 71 and I have guessed 71 times\n",
      "Guessing 72 and I have guessed 72 times\n",
      "Guessing 73 and I have guessed 73 times\n",
      "Guessing 74 and I have guessed 74 times\n",
      "Guessing 75 and I have guessed 75 times\n",
      "Guessing 76 and I have guessed 76 times\n",
      "Guessing 77 and I have guessed 77 times\n",
      "Guessing 78 and I have guessed 78 times\n",
      "Guessing 79 and I have guessed 79 times\n",
      "Guessing 80 and I have guessed 80 times\n",
      "Guessing 81 and I have guessed 81 times\n",
      "Guessing 82 and I have guessed 82 times\n",
      "Guessing 83 and I have guessed 83 times\n",
      "Guessing 84 and I have guessed 84 times\n",
      "Guessing 85 and I have guessed 85 times\n",
      "Guessing 86 and I have guessed 86 times\n",
      "Guessing 87 and I have guessed 87 times\n",
      "Guessing 88 and I have guessed 88 times\n",
      "Guessing 89 and I have guessed 89 times\n",
      "Guessing 90 and I have guessed 90 times\n",
      "Guessing 91 and I have guessed 91 times\n",
      "Guessing 92 and I have guessed 92 times\n",
      "Guessing 93 and I have guessed 93 times\n",
      "Guessing 94 and I have guessed 94 times\n",
      "Guessing 95 and I have guessed 95 times\n",
      "Correct!\n"
     ]
    }
   ],
   "metadata": {}
  }
 ],
 "metadata": {
  "orig_nbformat": 4,
  "language_info": {
   "name": "python",
   "version": "3.9.6",
   "mimetype": "text/x-python",
   "codemirror_mode": {
    "name": "ipython",
    "version": 3
   },
   "pygments_lexer": "ipython3",
   "nbconvert_exporter": "python",
   "file_extension": ".py"
  },
  "kernelspec": {
   "name": "python3",
   "display_name": "Python 3.9.6 64-bit ('python_programmering': conda)"
  },
  "interpreter": {
   "hash": "542aaf68b55b5c6f19ca97c058242afc248072e97d95b107dab6986e9412abbe"
  }
 },
 "nbformat": 4,
 "nbformat_minor": 2
}