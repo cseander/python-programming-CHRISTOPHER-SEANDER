{
 "cells": [
  {
   "cell_type": "code",
   "execution_count": 1,
   "source": [
    "import vector as vec\n",
    "\n",
    "v1 = vec.Vector(1,2)\n",
    "v2 = vec.Vector(1,1)\n",
    "print(v1.numbers)\n",
    "\n",
    "v_test = vec.Vector(True, False, 5)\n",
    "print(v_test.numbers)\n",
    "\n",
    "print(f\"v1 = {v1}, v2 = {v2}\")\n",
    "v3 = v1 + v2\n",
    "\n",
    "print(f\"v3 = {v3}\")\n",
    "\n",
    "try:\n",
    "    v3 + v_test\n",
    "except TypeError as err:\n",
    "    print(err)\n",
    "    \n",
    "v3[0]"
   ],
   "outputs": [
    {
     "output_type": "stream",
     "name": "stdout",
     "text": [
      "(1.0, 2.0)\n",
      "(1.0, 0.0, 5.0)\n",
      "v1 = (1.0, 2.0), v2 = (1.0, 1.0)\n",
      "v3 = (2.0, 3.0)\n",
      "Both must be Vector and same length\n"
     ]
    },
    {
     "output_type": "execute_result",
     "data": {
      "text/plain": [
       "2.0"
      ]
     },
     "metadata": {},
     "execution_count": 1
    }
   ],
   "metadata": {}
  },
  {
   "cell_type": "code",
   "execution_count": 2,
   "source": [
    "len(v1)"
   ],
   "outputs": [
    {
     "output_type": "execute_result",
     "data": {
      "text/plain": [
       "2"
      ]
     },
     "metadata": {},
     "execution_count": 2
    }
   ],
   "metadata": {}
  },
  {
   "cell_type": "code",
   "execution_count": 3,
   "source": [
    "from vector import Vector\n",
    "\n",
    "v1 = Vector(1, 1)\n",
    "v2 = Vector(1, 1)\n",
    "v3 = Vector(1, 5)\n",
    "\n",
    "print(f\"v1 == v2: {v1 == v2}\")\n",
    "print(f\"v1 == 3: {v1 == v3}\")\n",
    "\n",
    "print(v1 - v3)\n",
    "\n",
    "print(v1 * 5)\n",
    "print(5 * v1)"
   ],
   "outputs": [
    {
     "output_type": "stream",
     "name": "stdout",
     "text": [
      "v1 == v2: True\n",
      "v1 == 3: False\n",
      "(0.0, -4.0)\n",
      "(5.0, 5.0)\n",
      "(5.0, 5.0)\n"
     ]
    }
   ],
   "metadata": {}
  },
  {
   "cell_type": "code",
   "execution_count": 4,
   "source": [
    "v1.plot(v3)"
   ],
   "outputs": [
    {
     "output_type": "display_data",
     "data": {
      "text/plain": [
       "<Figure size 432x288 with 1 Axes>"
      ],
      "image/png": "[encoded data removed]"
     },
     "metadata": {
      "needs_background": "light"
     }
    }
   ],
   "metadata": {}
  }
 ],
 "metadata": {
  "orig_nbformat": 4,
  "language_info": {
   "name": "python",
   "version": "3.9.6",
   "mimetype": "text/x-python",
   "codemirror_mode": {
    "name": "ipython",
    "version": 3
   },
   "pygments_lexer": "ipython3",
   "nbconvert_exporter": "python",
   "file_extension": ".py"
  },
  "kernelspec": {
   "name": "python3",
   "display_name": "Python 3.9.6 64-bit ('python_programmering': conda)"
  },
  "interpreter": {
   "hash": "542aaf68b55b5c6f19ca97c058242afc248072e97d95b107dab6986e9412abbe"
  }
 },
 "nbformat": 4,
 "nbformat_minor": 2
}