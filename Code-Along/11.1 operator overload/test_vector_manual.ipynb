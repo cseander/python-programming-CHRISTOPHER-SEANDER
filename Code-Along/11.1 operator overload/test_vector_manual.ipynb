{
 "cells": [
  {
   "cell_type": "code",
   "execution_count": 3,
   "source": [
    "import vector as vec\r\n",
    "\r\n",
    "v1 = vec.Vector(1,2)\r\n",
    "v2 = vec.Vector(1,1)\r\n",
    "print(v1.numbers)\r\n",
    "\r\n",
    "v_test = vec.Vector(True, False, 5)\r\n",
    "print(v_test.numbers)\r\n",
    "\r\n",
    "print(f\"v1 = {v1}, v2 = {v2}\")\r\n",
    "v3 = v1 + v2\r\n",
    "\r\n",
    "print(f\"v3 = {v3}\")\r\n",
    "\r\n",
    "try:\r\n",
    "    v3 + v_test\r\n",
    "except TypeError as err:\r\n",
    "    print(err)\r\n",
    "    \r\n",
    "v3[0]"
   ],
   "outputs": [
    {
     "output_type": "stream",
     "name": "stdout",
     "text": [
      "(1.0, 2.0)\n",
      "(1.0, 0.0, 5.0)\n",
      "v1 = (1.0, 2.0), v2 = (1.0, 1.0)\n",
      "v3 = (2.0, 3.0)\n",
      "Both must be Vector and same length\n"
     ]
    },
    {
     "output_type": "execute_result",
     "data": {
      "text/plain": [
       "2.0"
      ]
     },
     "metadata": {},
     "execution_count": 3
    }
   ],
   "metadata": {}
  },
  {
   "cell_type": "code",
   "execution_count": 4,
   "source": [
    "len(v1)"
   ],
   "outputs": [
    {
     "output_type": "execute_result",
     "data": {
      "text/plain": [
       "2"
      ]
     },
     "metadata": {},
     "execution_count": 4
    }
   ],
   "metadata": {}
  },
  {
   "cell_type": "code",
   "execution_count": null,
   "source": [],
   "outputs": [],
   "metadata": {}
  }
 ],
 "metadata": {
  "orig_nbformat": 4,
  "language_info": {
   "name": "python",
   "version": "3.9.6",
   "mimetype": "text/x-python",
   "codemirror_mode": {
    "name": "ipython",
    "version": 3
   },
   "pygments_lexer": "ipython3",
   "nbconvert_exporter": "python",
   "file_extension": ".py"
  },
  "kernelspec": {
   "name": "python3",
   "display_name": "Python 3.9.6 64-bit ('portfolio-CHRISTOPHER-SEANDER-lOS1B_SO': pipenv)"
  },
  "interpreter": {
   "hash": "8f88897ffdbbb96e3d8311f44c34c21629e8ca4e17fed34549530a72a7767cfe"
  }
 },
 "nbformat": 4,
 "nbformat_minor": 2
}