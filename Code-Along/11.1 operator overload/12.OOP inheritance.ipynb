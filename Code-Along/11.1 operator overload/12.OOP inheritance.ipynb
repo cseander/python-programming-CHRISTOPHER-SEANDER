{
 "cells": [
  {
   "cell_type": "code",
   "execution_count": 3,
   "source": [
    "class Person:\n",
    "    def __init__(self, name, age) -> None:\n",
    "        self.age = age\n",
    "        self.name = name\n",
    "\n",
    "    @property\n",
    "    def age(self):\n",
    "        return self._age\n",
    "    \n",
    "    @age.setter\n",
    "    def age(self, value):\n",
    "        if not isinstance(value, int):\n",
    "            raise TypeError(\"Age has to be int\")\n",
    "        self._age = value\n",
    "\n",
    "    def say_hi(self):\n",
    "        print(f\"Person {self.name} says hi\")\n",
    "\n",
    "class Student(Person):\n",
    "    def __init__(self, name, age, language) -> None:\n",
    "        super().__init__(name, age)\n",
    "        self.language = language\n",
    "\n",
    "    def say_hi(self):\n",
    "        print(f\"Student {self.name} says yo in language {self.language}!\")\n",
    "\n",
    "class Viking(Person):\n",
    "    def __init__(self, name, age) -> None:\n",
    "        super().__init__(name, age)\n",
    "\n",
    "p1 = Person(\"Chris\", 20)\n",
    "s1 = Student(\"Philip\", 20, \"French\")\n",
    "v1 = Viking(\"T\")\n",
    "\n",
    "for person in (p1, s1):\n",
    "    person.say_hi()\n",
    "    \n",
    "    "
   ],
   "outputs": [
    {
     "output_type": "stream",
     "name": "stdout",
     "text": [
      "Person Chris says hi\n",
      "Student Philip says yo in language French!\n"
     ]
    }
   ],
   "metadata": {}
  }
 ],
 "metadata": {
  "orig_nbformat": 4,
  "language_info": {
   "name": "python",
   "version": "3.9.6",
   "mimetype": "text/x-python",
   "codemirror_mode": {
    "name": "ipython",
    "version": 3
   },
   "pygments_lexer": "ipython3",
   "nbconvert_exporter": "python",
   "file_extension": ".py"
  },
  "kernelspec": {
   "name": "python3",
   "display_name": "Python 3.9.6 64-bit ('python_programmering': conda)"
  },
  "interpreter": {
   "hash": "542aaf68b55b5c6f19ca97c058242afc248072e97d95b107dab6986e9412abbe"
  }
 },
 "nbformat": 4,
 "nbformat_minor": 2
}