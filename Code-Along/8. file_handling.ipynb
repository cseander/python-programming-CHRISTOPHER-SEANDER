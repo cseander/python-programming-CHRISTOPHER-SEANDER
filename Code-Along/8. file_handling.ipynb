{
 "cells": [
  {
   "cell_type": "markdown",
   "source": [
    "# File Handling\n",
    "\n",
    "options\n",
    "- \"r\" read\n",
    "- \"a\" append\n",
    "- \"w\" write\n",
    "- \"x\" create"
   ],
   "metadata": {}
  },
  {
   "cell_type": "code",
   "execution_count": 63,
   "source": [
    "# with -> use this when opening files\n",
    "# takes care of error handling\n",
    "# takes care of closing down the file\n",
    "\n",
    "with open(\"files/quotes.txt\", \"r\") as f:    # \"r\" option -> read file\n",
    "    text = f.read()\n",
    "\n",
    "# print(text)\n",
    "print(repr(text))"
   ],
   "outputs": [
    {
     "output_type": "stream",
     "name": "stdout",
     "text": [
      "'  If     we     knew what it was      we were doing, it would not be called research,          would it?     - Albert Einstein\\n\\nTime is a drug. Too       much of it kills you.  -  Terry Pratchett\\n\\n\\n An expert is a person who       has made all the mistakes that           can be made in a          very narrow field - Niels Bohr\\n\\n   Everything must be made as simple as possible. But not simpler. - Albert Einstein     \\n\\n\\n  Nothing in life                is to be feared, it is only to be understood. Now is the time to understand more, so that we may fear less. - Marie  Curie  \\n\\nIf I have seen further     it is by standing on the shoulders of Giants. - Isaac Newton'\n"
     ]
    }
   ],
   "metadata": {}
  },
  {
   "cell_type": "markdown",
   "source": [
    "## Clean up quotes.txt\n",
    "- inspect quotes.txt\n",
    "- remove leading and trailing white spaces\n",
    "- remove exessive white spaces between words\n",
    "- add quote numbers\n",
    "- extract authors"
   ],
   "metadata": {}
  },
  {
   "cell_type": "code",
   "execution_count": 64,
   "source": [
    "path = \"files/quotes.txt\"\n",
    "with open(path, \"r\") as f1:\n",
    "    quotes = f1.readlines()\n",
    "    \n",
    "    #quotes = [quote.strip(\"\\n\") for quote in f1.readlines()]\n"
   ],
   "outputs": [],
   "metadata": {}
  },
  {
   "cell_type": "code",
   "execution_count": 65,
   "source": [
    "import re\n",
    "path = \"files/quotes.txt\"\n",
    "path_clean = \"files/quotes_clean.txt\"\n",
    "\n",
    "with open(path, \"r\") as f1, open(path_clean, \"w\") as f2:\n",
    "    i = 1\n",
    "    f2.write(\"Famous quotes \\n\\n\")\n",
    "\n",
    "    for quote in f1.readlines():\n",
    "        quote = quote.strip(\" \\n\")          # removes leading and trailing white spaces and new lines\n",
    "        quote = re.sub(\" +\", \" \", quote)    # removes all excessive white spaces\n",
    "        # print(repr(quote))\n",
    "        if quote != \"\":\n",
    "            f2.write(f\"{i}. {quote} \\n\")\n",
    "            i += 1\n",
    "\n"
   ],
   "outputs": [],
   "metadata": {}
  },
  {
   "cell_type": "markdown",
   "source": [
    "## Extract authors from quotes_clean.txt"
   ],
   "metadata": {}
  },
  {
   "cell_type": "code",
   "execution_count": 66,
   "source": [
    "path_clean = \"files/quotes_clean.txt\"\n",
    "\n",
    "with open(path_clean, \"r\") as f1, open(path_clean, \"a\") as f2:\n",
    "    quotes = [quote.strip(\"\\n\") for quote in f1.readlines() if quote[0].isdigit()]\n",
    "    # print(quotes)\n",
    "\n",
    "    authors = [quote.split()[-2:] for quote in quotes]\n",
    "    authors = set([\" \".join(author) for author in authors])     # set = unique values\n",
    "    \n",
    "    f2.write(\"\\nAuthors: \")\n",
    "    for author in authors:\n",
    "        f2.write(f\"{author}, \")\n",
    "    print(authors)\n"
   ],
   "outputs": [
    {
     "output_type": "stream",
     "name": "stdout",
     "text": [
      "{'Albert Einstein', 'Marie Curie', 'Niels Bohr', 'Terry Pratchett', 'Isaac Newton'}\n"
     ]
    }
   ],
   "metadata": {}
  }
 ],
 "metadata": {
  "orig_nbformat": 4,
  "language_info": {
   "name": "python",
   "version": "3.9.6",
   "mimetype": "text/x-python",
   "codemirror_mode": {
    "name": "ipython",
    "version": 3
   },
   "pygments_lexer": "ipython3",
   "nbconvert_exporter": "python",
   "file_extension": ".py"
  },
  "kernelspec": {
   "name": "python3",
   "display_name": "Python 3.9.6 64-bit ('python_programmering': conda)"
  },
  "interpreter": {
   "hash": "542aaf68b55b5c6f19ca97c058242afc248072e97d95b107dab6986e9412abbe"
  }
 },
 "nbformat": 4,
 "nbformat_minor": 2
}