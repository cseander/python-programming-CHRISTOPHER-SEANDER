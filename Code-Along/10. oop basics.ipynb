{
 "cells": [
  {
   "cell_type": "markdown",
   "source": [
    "# OOP Basics"
   ],
   "metadata": {}
  },
  {
   "cell_type": "code",
   "execution_count": 3,
   "source": [
    "class Antagning:        # creates a class\n",
    "    def __init__ (self):\n",
    "        pass\n",
    "\n",
    "a1 = Antagning          # instantiated an object from the class Antagning\n",
    "print(a1)"
   ],
   "outputs": [
    {
     "output_type": "stream",
     "name": "stdout",
     "text": [
      "<class '__main__.Antagning'>\n"
     ]
    }
   ],
   "metadata": {}
  },
  {
   "cell_type": "code",
   "execution_count": 19,
   "source": [
    "class Antagning:\n",
    "    # self refers to the object that is created\n",
    "    # for functions or methods - positional arguments first, then default parameters\n",
    "    def __init__(self, school, program, name, accept = False) -> None: # dunder init\n",
    "        # assigns arguments to the objects attributes\n",
    "        self.school = school\n",
    "        self.program = program\n",
    "        self.name = name\n",
    "        self.accept = accept\n",
    "\n",
    "    def __repr__(self): # dunder __repr__ read: \"repper\"\n",
    "        return f\"Antagning(school='{self.school}', program='{self.program}', name='{self.name}', accept={self.accept})\"\n",
    "\n",
    "person1 = Antagning(\"Cool School\", \"AI\", \"Gore Bord\", False)    # constructor\n",
    "person2 = Antagning(\"IT-skola\", \"UX\", \"Gorat Borat\")\n",
    "\n",
    "print(person1.school)\n",
    "print(person1.name)\n",
    "print(person1.__dict__) # dunder dict\n",
    "print(person2.accept)\n",
    "print(person2.name)\n",
    "\n",
    "print(person1)\n",
    "print(person2)"
   ],
   "outputs": [
    {
     "output_type": "stream",
     "name": "stdout",
     "text": [
      "Cool School\n",
      "Gore Bord\n",
      "{'school': 'Cool School', 'program': 'AI', 'name': 'Gore Bord', 'accept': False}\n",
      "False\n",
      "Gorat Borat\n",
      "Antagning(school='Cool School', program='AI', name='Gore Bord', accept=False)\n",
      "Antagning(school='IT-skola', program='UX', name='Gorat Borat', accept=False)\n"
     ]
    }
   ],
   "metadata": {}
  },
  {
   "cell_type": "markdown",
   "source": [
    "## Exempel old coins in Sweden\n",
    "- dont remember the reference\n",
    "- riksdaler och skilling"
   ],
   "metadata": {}
  },
  {
   "cell_type": "code",
   "execution_count": 23,
   "source": [
    "class OldCoinStash:\n",
    "    def __init__(self, owner) -> None:\n",
    "        # these attributes are public\n",
    "        self.owner = owner\n",
    "        self.riksdaler = 0\n",
    "        self.skillng = 0\n",
    "\n",
    "stash1 = OldCoinStash(\"Gore Bore\")\n",
    "print(stash1.riksdaler)\n",
    "stash1.riksdaler = 1000\n",
    "print(stash1.riksdaler)"
   ],
   "outputs": [
    {
     "output_type": "stream",
     "name": "stdout",
     "text": [
      "0\n",
      "1000\n"
     ]
    }
   ],
   "metadata": {}
  },
  {
   "cell_type": "markdown",
   "source": [
    "## Encapsulation\n",
    "- in OOP, you want to encapuslate some information and only show relevant information outwards"
   ],
   "metadata": {}
  },
  {
   "cell_type": "code",
   "execution_count": 41,
   "source": [
    "class OldCoinStash:\n",
    "    def __init__(self, owner: str) -> None:\n",
    "        # these attributes are public\n",
    "        self.owner = owner\n",
    "\n",
    "        # private - by convention use underscore prefix\n",
    "        self._riksdaler = 0\n",
    "        self._skillng = 0\n",
    "\n",
    "    def deposit(self, rikstaler: float = 0, skilling: float = 0) -> None:\n",
    "        if rikstaler < 0 or skilling < 0:\n",
    "            raise ValueError(f\"Stop depositing negative values. {rikstaler} riksdaler or {skilling} skilling is not okay.\")\n",
    "\n",
    "        self._riksdaler += rikstaler\n",
    "        self._skillng += skilling\n",
    "\n",
    "    def withdraw(self, riksdaler: float = 0, skilling: float = 0) -> None:\n",
    "        if riksdaler > self._riksdaler or skilling > self._skillng:\n",
    "            raise ValueError(f\"You can't withdraw more coins than you have.\")\n",
    "        \n",
    "        self._riksdaler -= riksdaler\n",
    "        self._skillng -= skilling\n",
    "\n",
    "    def check_balance(self) -> str:\n",
    "        return f\"Coints in stash: {self._riksdaler} riksdaler and {self._skillng} skillingar\"\n",
    "    \n",
    "    def __repr__(self) -> str:\n",
    "        return f\"OldCoindStash(owner='{self.owner}')\"\n",
    "\n",
    "stash1 = OldCoinStash(\"Gore Bod\")\n",
    "print(stash1) # testing __repr__\n",
    "print(stash1.check_balance()) # testing check_balance()\n",
    "stash1.deposit(rikstaler = 500, skilling = 3000) # testing deposit\n",
    "print(stash1.check_balance())\n",
    "\n",
    "try:\n",
    "    stash1.deposit(-20, 50)\n",
    "except ValueError as err:\n",
    "    print(err)\n",
    "\n",
    "stash1.withdraw(riksdaler = 300, skilling = 500) # testing withdraw\n",
    "print(stash1.check_balance())\n",
    "\n",
    "try:\n",
    "    stash1.withdraw(10000, 10000) # trying to rob the stash\n",
    "except ValueError as err:\n",
    "    print(err)\n",
    "\n",
    "print(stash1.check_balance())\n",
    "\n",
    "# can access private attributes but shouldnt do it\n",
    "stash1._skillng = 0\n",
    "stash1._riksdaler = 0\n",
    "print(stash1.check_balance())"
   ],
   "outputs": [
    {
     "output_type": "stream",
     "name": "stdout",
     "text": [
      "OldCoindStash(owner='Gore Bod')\n",
      "Coints in stash: 0 riksdaler and 0 skillingar\n",
      "Coints in stash: 500 riksdaler and 3000 skillingar\n",
      "Stop depositing negative values. -20 riksdaler or 50 skilling is not okay.\n",
      "Coints in stash: 200 riksdaler and 2500 skillingar\n",
      "You can't withdraw more coins than you have.\n",
      "Coints in stash: 200 riksdaler and 2500 skillingar\n",
      "Coints in stash: 0 riksdaler and 0 skillingar\n"
     ]
    }
   ],
   "metadata": {}
  },
  {
   "cell_type": "markdown",
   "source": [
    "## Properties"
   ],
   "metadata": {}
  },
  {
   "cell_type": "code",
   "execution_count": 53,
   "source": [
    "class Student:\n",
    "    def __init__(self, name: str, age: float) -> None:\n",
    "        self.name = name\n",
    "        self.age = age  # note no underscore\n",
    "    \n",
    "    @property\n",
    "    def age(self) -> float:\n",
    "        print(\"age getter is running ...\")\n",
    "        return self._age\n",
    "\n",
    "    @age.setter\n",
    "    def age(self, value: float) -> None:\n",
    "        print(\"age-setter is running ...\")\n",
    "        if not isinstance(value, (int, float)):\n",
    "            raise TypeError(f\"Age must be int or float, not {type(value)}\")\n",
    "\n",
    "        if not (0 <= value < 125):\n",
    "            raise ValueError(\"Your age must be between 0 and 125\")\n",
    "\n",
    "        self._age = value\n",
    "\n",
    "student1 = Student(\"Gore Bore\", 25)\n",
    "print(student1.age)\n",
    "\n",
    "try:\n",
    "    student1.age = \"26\"\n",
    "except TypeError as err:\n",
    "    print(err)"
   ],
   "outputs": [
    {
     "output_type": "stream",
     "name": "stdout",
     "text": [
      "age-setter is running ...\n",
      "age getter is running ...\n",
      "25\n",
      "age-setter is running ...\n",
      "Age must be int or float, not <class 'str'>\n"
     ]
    }
   ],
   "metadata": {}
  }
 ],
 "metadata": {
  "orig_nbformat": 4,
  "language_info": {
   "name": "python",
   "version": "3.9.6",
   "mimetype": "text/x-python",
   "codemirror_mode": {
    "name": "ipython",
    "version": 3
   },
   "pygments_lexer": "ipython3",
   "nbconvert_exporter": "python",
   "file_extension": ".py"
  },
  "kernelspec": {
   "name": "python3",
   "display_name": "Python 3.9.6 64-bit ('python_programmering': conda)"
  },
  "interpreter": {
   "hash": "542aaf68b55b5c6f19ca97c058242afc248072e97d95b107dab6986e9412abbe"
  }
 },
 "nbformat": 4,
 "nbformat_minor": 2
}